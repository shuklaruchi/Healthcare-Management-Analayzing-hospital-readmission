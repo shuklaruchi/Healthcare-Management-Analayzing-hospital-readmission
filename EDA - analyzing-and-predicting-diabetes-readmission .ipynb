{
 "cells": [
  {
   "cell_type": "markdown",
   "id": "baabee21",
   "metadata": {
    "papermill": {
     "duration": 0.045563,
     "end_time": "2022-09-19T20:56:19.861889",
     "exception": false,
     "start_time": "2022-09-19T20:56:19.816326",
     "status": "completed"
    },
    "tags": []
   },
   "source": [
    "## Problem Description"
   ]
  },
  {
   "cell_type": "markdown",
   "id": "72741c5f",
   "metadata": {
    "papermill": {
     "duration": 0.042228,
     "end_time": "2022-09-19T20:56:19.945892",
     "exception": false,
     "start_time": "2022-09-19T20:56:19.903664",
     "status": "completed"
    },
    "tags": []
   },
   "source": [
    "It is important to know if a patient will be readmitted in some hospital. The reason is that you can change the treatment, in order to avoid a readmission.\n",
    "\n",
    "In this database, we have 3 different outputs:\n",
    "\n",
    "- No readmission;\n",
    "- A readmission in less than 30 days (this situation is not good, because maybe your treatment was not appropriate);\n",
    "- A readmission in more than 30 days (this one is not so good as well the last one, however, the reason can be the state of the patient."
   ]
  },
  {
   "cell_type": "markdown",
   "id": "e1d60303",
   "metadata": {
    "papermill": {
     "duration": 0.041889,
     "end_time": "2022-09-19T20:56:20.030410",
     "exception": false,
     "start_time": "2022-09-19T20:56:19.988521",
     "status": "completed"
    },
    "tags": []
   },
   "source": [
    "# Coding "
   ]
  },
  {
   "cell_type": "markdown",
   "id": "ad894a6e",
   "metadata": {
    "papermill": {
     "duration": 0.040082,
     "end_time": "2022-09-19T20:56:20.111329",
     "exception": false,
     "start_time": "2022-09-19T20:56:20.071247",
     "status": "completed"
    },
    "tags": []
   },
   "source": [
    "### 1. Import Libraries"
   ]
  },
  {
   "cell_type": "code",
   "execution_count": 1,
   "id": "b415a772",
   "metadata": {
    "execution": {
     "iopub.execute_input": "2022-09-19T20:56:20.194692Z",
     "iopub.status.busy": "2022-09-19T20:56:20.194008Z",
     "iopub.status.idle": "2022-09-19T20:56:21.430820Z",
     "shell.execute_reply": "2022-09-19T20:56:21.429543Z"
    },
    "papermill": {
     "duration": 1.282214,
     "end_time": "2022-09-19T20:56:21.434058",
     "exception": false,
     "start_time": "2022-09-19T20:56:20.151844",
     "status": "completed"
    },
    "tags": []
   },
   "outputs": [],
   "source": [
    "# General Libraries\n",
    "import pandas as pd\n",
    "import numpy as np\n",
    "\n",
    "# Visualization Libraries\n",
    "import seaborn as sns\n",
    "import matplotlib.pyplot as plt\n"
   ]
  },
  {
   "cell_type": "markdown",
   "id": "246e7df3",
   "metadata": {
    "papermill": {
     "duration": 0.042499,
     "end_time": "2022-09-19T20:56:21.519336",
     "exception": false,
     "start_time": "2022-09-19T20:56:21.476837",
     "status": "completed"
    },
    "tags": []
   },
   "source": [
    "### 2. Read Data"
   ]
  },
  {
   "cell_type": "code",
   "execution_count": 2,
   "id": "53e9ecca",
   "metadata": {
    "execution": {
     "iopub.execute_input": "2022-09-19T20:56:21.607665Z",
     "iopub.status.busy": "2022-09-19T20:56:21.607215Z",
     "iopub.status.idle": "2022-09-19T20:56:22.761909Z",
     "shell.execute_reply": "2022-09-19T20:56:22.760689Z"
    },
    "papermill": {
     "duration": 1.201856,
     "end_time": "2022-09-19T20:56:22.764742",
     "exception": false,
     "start_time": "2022-09-19T20:56:21.562886",
     "status": "completed"
    },
    "tags": []
   },
   "outputs": [],
   "source": [
    "df = pd.read_csv('/Users/ruchishukla/Downloads/diabetic_data 2.csv')"
   ]
  },
  {
   "cell_type": "code",
   "execution_count": 3,
   "id": "b8ba1bd9",
   "metadata": {
    "execution": {
     "iopub.execute_input": "2022-09-19T20:56:22.848841Z",
     "iopub.status.busy": "2022-09-19T20:56:22.848425Z",
     "iopub.status.idle": "2022-09-19T20:56:22.884291Z",
     "shell.execute_reply": "2022-09-19T20:56:22.883367Z"
    },
    "papermill": {
     "duration": 0.081052,
     "end_time": "2022-09-19T20:56:22.887120",
     "exception": false,
     "start_time": "2022-09-19T20:56:22.806068",
     "status": "completed"
    },
    "tags": []
   },
   "outputs": [
    {
     "data": {
      "text/html": [
       "<div>\n",
       "<style scoped>\n",
       "    .dataframe tbody tr th:only-of-type {\n",
       "        vertical-align: middle;\n",
       "    }\n",
       "\n",
       "    .dataframe tbody tr th {\n",
       "        vertical-align: top;\n",
       "    }\n",
       "\n",
       "    .dataframe thead th {\n",
       "        text-align: right;\n",
       "    }\n",
       "</style>\n",
       "<table border=\"1\" class=\"dataframe\">\n",
       "  <thead>\n",
       "    <tr style=\"text-align: right;\">\n",
       "      <th></th>\n",
       "      <th>encounter_id</th>\n",
       "      <th>patient_nbr</th>\n",
       "      <th>race</th>\n",
       "      <th>gender</th>\n",
       "      <th>age</th>\n",
       "      <th>weight</th>\n",
       "      <th>admission_type_id</th>\n",
       "      <th>discharge_disposition_id</th>\n",
       "      <th>admission_source_id</th>\n",
       "      <th>time_in_hospital</th>\n",
       "      <th>...</th>\n",
       "      <th>citoglipton</th>\n",
       "      <th>insulin</th>\n",
       "      <th>glyburide-metformin</th>\n",
       "      <th>glipizide-metformin</th>\n",
       "      <th>glimepiride-pioglitazone</th>\n",
       "      <th>metformin-rosiglitazone</th>\n",
       "      <th>metformin-pioglitazone</th>\n",
       "      <th>change</th>\n",
       "      <th>diabetesMed</th>\n",
       "      <th>readmitted</th>\n",
       "    </tr>\n",
       "  </thead>\n",
       "  <tbody>\n",
       "    <tr>\n",
       "      <th>0</th>\n",
       "      <td>2278392</td>\n",
       "      <td>8222157</td>\n",
       "      <td>Caucasian</td>\n",
       "      <td>Female</td>\n",
       "      <td>[0-10)</td>\n",
       "      <td>?</td>\n",
       "      <td>6</td>\n",
       "      <td>25</td>\n",
       "      <td>1</td>\n",
       "      <td>1</td>\n",
       "      <td>...</td>\n",
       "      <td>No</td>\n",
       "      <td>No</td>\n",
       "      <td>No</td>\n",
       "      <td>No</td>\n",
       "      <td>No</td>\n",
       "      <td>No</td>\n",
       "      <td>No</td>\n",
       "      <td>No</td>\n",
       "      <td>No</td>\n",
       "      <td>NO</td>\n",
       "    </tr>\n",
       "    <tr>\n",
       "      <th>1</th>\n",
       "      <td>149190</td>\n",
       "      <td>55629189</td>\n",
       "      <td>Caucasian</td>\n",
       "      <td>Female</td>\n",
       "      <td>[10-20)</td>\n",
       "      <td>?</td>\n",
       "      <td>1</td>\n",
       "      <td>1</td>\n",
       "      <td>7</td>\n",
       "      <td>3</td>\n",
       "      <td>...</td>\n",
       "      <td>No</td>\n",
       "      <td>Up</td>\n",
       "      <td>No</td>\n",
       "      <td>No</td>\n",
       "      <td>No</td>\n",
       "      <td>No</td>\n",
       "      <td>No</td>\n",
       "      <td>Ch</td>\n",
       "      <td>Yes</td>\n",
       "      <td>&gt;30</td>\n",
       "    </tr>\n",
       "    <tr>\n",
       "      <th>2</th>\n",
       "      <td>64410</td>\n",
       "      <td>86047875</td>\n",
       "      <td>AfricanAmerican</td>\n",
       "      <td>Female</td>\n",
       "      <td>[20-30)</td>\n",
       "      <td>?</td>\n",
       "      <td>1</td>\n",
       "      <td>1</td>\n",
       "      <td>7</td>\n",
       "      <td>2</td>\n",
       "      <td>...</td>\n",
       "      <td>No</td>\n",
       "      <td>No</td>\n",
       "      <td>No</td>\n",
       "      <td>No</td>\n",
       "      <td>No</td>\n",
       "      <td>No</td>\n",
       "      <td>No</td>\n",
       "      <td>No</td>\n",
       "      <td>Yes</td>\n",
       "      <td>NO</td>\n",
       "    </tr>\n",
       "    <tr>\n",
       "      <th>3</th>\n",
       "      <td>500364</td>\n",
       "      <td>82442376</td>\n",
       "      <td>Caucasian</td>\n",
       "      <td>Male</td>\n",
       "      <td>[30-40)</td>\n",
       "      <td>?</td>\n",
       "      <td>1</td>\n",
       "      <td>1</td>\n",
       "      <td>7</td>\n",
       "      <td>2</td>\n",
       "      <td>...</td>\n",
       "      <td>No</td>\n",
       "      <td>Up</td>\n",
       "      <td>No</td>\n",
       "      <td>No</td>\n",
       "      <td>No</td>\n",
       "      <td>No</td>\n",
       "      <td>No</td>\n",
       "      <td>Ch</td>\n",
       "      <td>Yes</td>\n",
       "      <td>NO</td>\n",
       "    </tr>\n",
       "    <tr>\n",
       "      <th>4</th>\n",
       "      <td>16680</td>\n",
       "      <td>42519267</td>\n",
       "      <td>Caucasian</td>\n",
       "      <td>Male</td>\n",
       "      <td>[40-50)</td>\n",
       "      <td>?</td>\n",
       "      <td>1</td>\n",
       "      <td>1</td>\n",
       "      <td>7</td>\n",
       "      <td>1</td>\n",
       "      <td>...</td>\n",
       "      <td>No</td>\n",
       "      <td>Steady</td>\n",
       "      <td>No</td>\n",
       "      <td>No</td>\n",
       "      <td>No</td>\n",
       "      <td>No</td>\n",
       "      <td>No</td>\n",
       "      <td>Ch</td>\n",
       "      <td>Yes</td>\n",
       "      <td>NO</td>\n",
       "    </tr>\n",
       "  </tbody>\n",
       "</table>\n",
       "<p>5 rows × 50 columns</p>\n",
       "</div>"
      ],
      "text/plain": [
       "   encounter_id  patient_nbr             race  gender      age weight  \\\n",
       "0       2278392      8222157        Caucasian  Female   [0-10)      ?   \n",
       "1        149190     55629189        Caucasian  Female  [10-20)      ?   \n",
       "2         64410     86047875  AfricanAmerican  Female  [20-30)      ?   \n",
       "3        500364     82442376        Caucasian    Male  [30-40)      ?   \n",
       "4         16680     42519267        Caucasian    Male  [40-50)      ?   \n",
       "\n",
       "   admission_type_id  discharge_disposition_id  admission_source_id  \\\n",
       "0                  6                        25                    1   \n",
       "1                  1                         1                    7   \n",
       "2                  1                         1                    7   \n",
       "3                  1                         1                    7   \n",
       "4                  1                         1                    7   \n",
       "\n",
       "   time_in_hospital  ... citoglipton insulin  glyburide-metformin  \\\n",
       "0                 1  ...          No      No                   No   \n",
       "1                 3  ...          No      Up                   No   \n",
       "2                 2  ...          No      No                   No   \n",
       "3                 2  ...          No      Up                   No   \n",
       "4                 1  ...          No  Steady                   No   \n",
       "\n",
       "   glipizide-metformin  glimepiride-pioglitazone  metformin-rosiglitazone  \\\n",
       "0                   No                        No                       No   \n",
       "1                   No                        No                       No   \n",
       "2                   No                        No                       No   \n",
       "3                   No                        No                       No   \n",
       "4                   No                        No                       No   \n",
       "\n",
       "   metformin-pioglitazone  change diabetesMed readmitted  \n",
       "0                      No      No          No         NO  \n",
       "1                      No      Ch         Yes        >30  \n",
       "2                      No      No         Yes         NO  \n",
       "3                      No      Ch         Yes         NO  \n",
       "4                      No      Ch         Yes         NO  \n",
       "\n",
       "[5 rows x 50 columns]"
      ]
     },
     "execution_count": 3,
     "metadata": {},
     "output_type": "execute_result"
    }
   ],
   "source": [
    "df.head()"
   ]
  },
  {
   "cell_type": "markdown",
   "id": "9bdc9c2c",
   "metadata": {
    "papermill": {
     "duration": 0.042135,
     "end_time": "2022-09-19T20:56:22.971669",
     "exception": false,
     "start_time": "2022-09-19T20:56:22.929534",
     "status": "completed"
    },
    "tags": []
   },
   "source": [
    "### 3. Data Analysis, Visualization and Cleaning"
   ]
  },
  {
   "cell_type": "markdown",
   "id": "da4019fd",
   "metadata": {
    "papermill": {
     "duration": 0.042246,
     "end_time": "2022-09-19T20:56:23.057792",
     "exception": false,
     "start_time": "2022-09-19T20:56:23.015546",
     "status": "completed"
    },
    "tags": []
   },
   "source": [
    "<b>Shape of the data ?</b>"
   ]
  },
  {
   "cell_type": "code",
   "execution_count": 4,
   "id": "87afce0f",
   "metadata": {
    "execution": {
     "iopub.execute_input": "2022-09-19T20:56:23.146200Z",
     "iopub.status.busy": "2022-09-19T20:56:23.145560Z",
     "iopub.status.idle": "2022-09-19T20:56:23.151491Z",
     "shell.execute_reply": "2022-09-19T20:56:23.150222Z"
    },
    "papermill": {
     "duration": 0.052805,
     "end_time": "2022-09-19T20:56:23.154786",
     "exception": false,
     "start_time": "2022-09-19T20:56:23.101981",
     "status": "completed"
    },
    "tags": []
   },
   "outputs": [
    {
     "name": "stdout",
     "output_type": "stream",
     "text": [
      "The shape of the Dataset is : (101766, 50) with 101766 records and 50 columns\n"
     ]
    }
   ],
   "source": [
    "print('The shape of the Dataset is :', df.shape, 'with', df.shape[0], 'records and', df.shape[1], 'columns')"
   ]
  },
  {
   "cell_type": "markdown",
   "id": "620d2b71",
   "metadata": {
    "papermill": {
     "duration": 0.041952,
     "end_time": "2022-09-19T20:56:23.238851",
     "exception": false,
     "start_time": "2022-09-19T20:56:23.196899",
     "status": "completed"
    },
    "tags": []
   },
   "source": [
    "<b>Check the columns of the dataset?</b>"
   ]
  },
  {
   "cell_type": "code",
   "execution_count": 5,
   "id": "010cc590",
   "metadata": {
    "execution": {
     "iopub.execute_input": "2022-09-19T20:56:23.325441Z",
     "iopub.status.busy": "2022-09-19T20:56:23.324433Z",
     "iopub.status.idle": "2022-09-19T20:56:23.332643Z",
     "shell.execute_reply": "2022-09-19T20:56:23.331414Z"
    },
    "papermill": {
     "duration": 0.054212,
     "end_time": "2022-09-19T20:56:23.335007",
     "exception": false,
     "start_time": "2022-09-19T20:56:23.280795",
     "status": "completed"
    },
    "tags": []
   },
   "outputs": [
    {
     "data": {
      "text/plain": [
       "Index(['encounter_id', 'patient_nbr', 'race', 'gender', 'age', 'weight',\n",
       "       'admission_type_id', 'discharge_disposition_id', 'admission_source_id',\n",
       "       'time_in_hospital', 'payer_code', 'medical_specialty',\n",
       "       'num_lab_procedures', 'num_procedures', 'num_medications',\n",
       "       'number_outpatient', 'number_emergency', 'number_inpatient', 'diag_1',\n",
       "       'diag_2', 'diag_3', 'number_diagnoses', 'max_glu_serum', 'A1Cresult',\n",
       "       'metformin', 'repaglinide', 'nateglinide', 'chlorpropamide',\n",
       "       'glimepiride', 'acetohexamide', 'glipizide', 'glyburide', 'tolbutamide',\n",
       "       'pioglitazone', 'rosiglitazone', 'acarbose', 'miglitol', 'troglitazone',\n",
       "       'tolazamide', 'examide', 'citoglipton', 'insulin',\n",
       "       'glyburide-metformin', 'glipizide-metformin',\n",
       "       'glimepiride-pioglitazone', 'metformin-rosiglitazone',\n",
       "       'metformin-pioglitazone', 'change', 'diabetesMed', 'readmitted'],\n",
       "      dtype='object')"
      ]
     },
     "execution_count": 5,
     "metadata": {},
     "output_type": "execute_result"
    }
   ],
   "source": [
    "df.columns"
   ]
  },
  {
   "cell_type": "markdown",
   "id": "cea575b3",
   "metadata": {
    "papermill": {
     "duration": 0.042217,
     "end_time": "2022-09-19T20:56:23.418757",
     "exception": false,
     "start_time": "2022-09-19T20:56:23.376540",
     "status": "completed"
    },
    "tags": []
   },
   "source": [
    "<b> Number of columns in the data?</b>"
   ]
  },
  {
   "cell_type": "code",
   "execution_count": 6,
   "id": "da111bc3",
   "metadata": {
    "execution": {
     "iopub.execute_input": "2022-09-19T20:56:23.506176Z",
     "iopub.status.busy": "2022-09-19T20:56:23.505526Z",
     "iopub.status.idle": "2022-09-19T20:56:23.512193Z",
     "shell.execute_reply": "2022-09-19T20:56:23.510645Z"
    },
    "papermill": {
     "duration": 0.052801,
     "end_time": "2022-09-19T20:56:23.514672",
     "exception": false,
     "start_time": "2022-09-19T20:56:23.461871",
     "status": "completed"
    },
    "tags": []
   },
   "outputs": [
    {
     "name": "stdout",
     "output_type": "stream",
     "text": [
      "There are total 50 columns in the dataset.\n"
     ]
    }
   ],
   "source": [
    "print('There are total', len(df.columns), 'columns in the dataset.')"
   ]
  },
  {
   "cell_type": "markdown",
   "id": "13961509",
   "metadata": {
    "papermill": {
     "duration": 0.043218,
     "end_time": "2022-09-19T20:56:23.600967",
     "exception": false,
     "start_time": "2022-09-19T20:56:23.557749",
     "status": "completed"
    },
    "tags": []
   },
   "source": [
    "From the 50 columns 49 columns such as encounter_id, patient_nbr etc are the independent variables and the column name <b>\"readmitted\"</b> is the dependent variable and the label of the data. "
   ]
  },
  {
   "cell_type": "markdown",
   "id": "a5856e83",
   "metadata": {
    "papermill": {
     "duration": 0.041328,
     "end_time": "2022-09-19T20:56:23.684335",
     "exception": false,
     "start_time": "2022-09-19T20:56:23.643007",
     "status": "completed"
    },
    "tags": []
   },
   "source": [
    "<b>Statistics of the Data ?</b>"
   ]
  },
  {
   "cell_type": "code",
   "execution_count": 7,
   "id": "e0b06a5f",
   "metadata": {
    "execution": {
     "iopub.execute_input": "2022-09-19T20:56:23.769777Z",
     "iopub.status.busy": "2022-09-19T20:56:23.769077Z",
     "iopub.status.idle": "2022-09-19T20:56:24.326179Z",
     "shell.execute_reply": "2022-09-19T20:56:24.324963Z"
    },
    "papermill": {
     "duration": 0.603212,
     "end_time": "2022-09-19T20:56:24.329201",
     "exception": false,
     "start_time": "2022-09-19T20:56:23.725989",
     "status": "completed"
    },
    "tags": []
   },
   "outputs": [
    {
     "data": {
      "text/html": [
       "<div>\n",
       "<style scoped>\n",
       "    .dataframe tbody tr th:only-of-type {\n",
       "        vertical-align: middle;\n",
       "    }\n",
       "\n",
       "    .dataframe tbody tr th {\n",
       "        vertical-align: top;\n",
       "    }\n",
       "\n",
       "    .dataframe thead th {\n",
       "        text-align: right;\n",
       "    }\n",
       "</style>\n",
       "<table border=\"1\" class=\"dataframe\">\n",
       "  <thead>\n",
       "    <tr style=\"text-align: right;\">\n",
       "      <th></th>\n",
       "      <th>count</th>\n",
       "      <th>unique</th>\n",
       "      <th>top</th>\n",
       "      <th>freq</th>\n",
       "      <th>mean</th>\n",
       "      <th>std</th>\n",
       "      <th>min</th>\n",
       "      <th>25%</th>\n",
       "      <th>50%</th>\n",
       "      <th>75%</th>\n",
       "      <th>max</th>\n",
       "    </tr>\n",
       "  </thead>\n",
       "  <tbody>\n",
       "    <tr>\n",
       "      <th>encounter_id</th>\n",
       "      <td>101766.0</td>\n",
       "      <td>NaN</td>\n",
       "      <td>NaN</td>\n",
       "      <td>NaN</td>\n",
       "      <td>165201645.622978</td>\n",
       "      <td>102640295.983458</td>\n",
       "      <td>12522.0</td>\n",
       "      <td>84961194.0</td>\n",
       "      <td>152388987.0</td>\n",
       "      <td>230270887.5</td>\n",
       "      <td>443867222.0</td>\n",
       "    </tr>\n",
       "    <tr>\n",
       "      <th>patient_nbr</th>\n",
       "      <td>101766.0</td>\n",
       "      <td>NaN</td>\n",
       "      <td>NaN</td>\n",
       "      <td>NaN</td>\n",
       "      <td>54330400.694947</td>\n",
       "      <td>38696359.346534</td>\n",
       "      <td>135.0</td>\n",
       "      <td>23413221.0</td>\n",
       "      <td>45505143.0</td>\n",
       "      <td>87545949.75</td>\n",
       "      <td>189502619.0</td>\n",
       "    </tr>\n",
       "    <tr>\n",
       "      <th>race</th>\n",
       "      <td>101766</td>\n",
       "      <td>6</td>\n",
       "      <td>Caucasian</td>\n",
       "      <td>76099</td>\n",
       "      <td>NaN</td>\n",
       "      <td>NaN</td>\n",
       "      <td>NaN</td>\n",
       "      <td>NaN</td>\n",
       "      <td>NaN</td>\n",
       "      <td>NaN</td>\n",
       "      <td>NaN</td>\n",
       "    </tr>\n",
       "    <tr>\n",
       "      <th>gender</th>\n",
       "      <td>101766</td>\n",
       "      <td>3</td>\n",
       "      <td>Female</td>\n",
       "      <td>54708</td>\n",
       "      <td>NaN</td>\n",
       "      <td>NaN</td>\n",
       "      <td>NaN</td>\n",
       "      <td>NaN</td>\n",
       "      <td>NaN</td>\n",
       "      <td>NaN</td>\n",
       "      <td>NaN</td>\n",
       "    </tr>\n",
       "    <tr>\n",
       "      <th>age</th>\n",
       "      <td>101766</td>\n",
       "      <td>10</td>\n",
       "      <td>[70-80)</td>\n",
       "      <td>26068</td>\n",
       "      <td>NaN</td>\n",
       "      <td>NaN</td>\n",
       "      <td>NaN</td>\n",
       "      <td>NaN</td>\n",
       "      <td>NaN</td>\n",
       "      <td>NaN</td>\n",
       "      <td>NaN</td>\n",
       "    </tr>\n",
       "    <tr>\n",
       "      <th>weight</th>\n",
       "      <td>101766</td>\n",
       "      <td>10</td>\n",
       "      <td>?</td>\n",
       "      <td>98569</td>\n",
       "      <td>NaN</td>\n",
       "      <td>NaN</td>\n",
       "      <td>NaN</td>\n",
       "      <td>NaN</td>\n",
       "      <td>NaN</td>\n",
       "      <td>NaN</td>\n",
       "      <td>NaN</td>\n",
       "    </tr>\n",
       "    <tr>\n",
       "      <th>admission_type_id</th>\n",
       "      <td>101766.0</td>\n",
       "      <td>NaN</td>\n",
       "      <td>NaN</td>\n",
       "      <td>NaN</td>\n",
       "      <td>2.024006</td>\n",
       "      <td>1.445403</td>\n",
       "      <td>1.0</td>\n",
       "      <td>1.0</td>\n",
       "      <td>1.0</td>\n",
       "      <td>3.0</td>\n",
       "      <td>8.0</td>\n",
       "    </tr>\n",
       "    <tr>\n",
       "      <th>discharge_disposition_id</th>\n",
       "      <td>101766.0</td>\n",
       "      <td>NaN</td>\n",
       "      <td>NaN</td>\n",
       "      <td>NaN</td>\n",
       "      <td>3.715642</td>\n",
       "      <td>5.280166</td>\n",
       "      <td>1.0</td>\n",
       "      <td>1.0</td>\n",
       "      <td>1.0</td>\n",
       "      <td>4.0</td>\n",
       "      <td>28.0</td>\n",
       "    </tr>\n",
       "    <tr>\n",
       "      <th>admission_source_id</th>\n",
       "      <td>101766.0</td>\n",
       "      <td>NaN</td>\n",
       "      <td>NaN</td>\n",
       "      <td>NaN</td>\n",
       "      <td>5.754437</td>\n",
       "      <td>4.064081</td>\n",
       "      <td>1.0</td>\n",
       "      <td>1.0</td>\n",
       "      <td>7.0</td>\n",
       "      <td>7.0</td>\n",
       "      <td>25.0</td>\n",
       "    </tr>\n",
       "    <tr>\n",
       "      <th>time_in_hospital</th>\n",
       "      <td>101766.0</td>\n",
       "      <td>NaN</td>\n",
       "      <td>NaN</td>\n",
       "      <td>NaN</td>\n",
       "      <td>4.395987</td>\n",
       "      <td>2.985108</td>\n",
       "      <td>1.0</td>\n",
       "      <td>2.0</td>\n",
       "      <td>4.0</td>\n",
       "      <td>6.0</td>\n",
       "      <td>14.0</td>\n",
       "    </tr>\n",
       "    <tr>\n",
       "      <th>payer_code</th>\n",
       "      <td>101766</td>\n",
       "      <td>18</td>\n",
       "      <td>?</td>\n",
       "      <td>40256</td>\n",
       "      <td>NaN</td>\n",
       "      <td>NaN</td>\n",
       "      <td>NaN</td>\n",
       "      <td>NaN</td>\n",
       "      <td>NaN</td>\n",
       "      <td>NaN</td>\n",
       "      <td>NaN</td>\n",
       "    </tr>\n",
       "    <tr>\n",
       "      <th>medical_specialty</th>\n",
       "      <td>101766</td>\n",
       "      <td>73</td>\n",
       "      <td>?</td>\n",
       "      <td>49949</td>\n",
       "      <td>NaN</td>\n",
       "      <td>NaN</td>\n",
       "      <td>NaN</td>\n",
       "      <td>NaN</td>\n",
       "      <td>NaN</td>\n",
       "      <td>NaN</td>\n",
       "      <td>NaN</td>\n",
       "    </tr>\n",
       "    <tr>\n",
       "      <th>num_lab_procedures</th>\n",
       "      <td>101766.0</td>\n",
       "      <td>NaN</td>\n",
       "      <td>NaN</td>\n",
       "      <td>NaN</td>\n",
       "      <td>43.095641</td>\n",
       "      <td>19.674362</td>\n",
       "      <td>1.0</td>\n",
       "      <td>31.0</td>\n",
       "      <td>44.0</td>\n",
       "      <td>57.0</td>\n",
       "      <td>132.0</td>\n",
       "    </tr>\n",
       "    <tr>\n",
       "      <th>num_procedures</th>\n",
       "      <td>101766.0</td>\n",
       "      <td>NaN</td>\n",
       "      <td>NaN</td>\n",
       "      <td>NaN</td>\n",
       "      <td>1.33973</td>\n",
       "      <td>1.705807</td>\n",
       "      <td>0.0</td>\n",
       "      <td>0.0</td>\n",
       "      <td>1.0</td>\n",
       "      <td>2.0</td>\n",
       "      <td>6.0</td>\n",
       "    </tr>\n",
       "    <tr>\n",
       "      <th>num_medications</th>\n",
       "      <td>101766.0</td>\n",
       "      <td>NaN</td>\n",
       "      <td>NaN</td>\n",
       "      <td>NaN</td>\n",
       "      <td>16.021844</td>\n",
       "      <td>8.127566</td>\n",
       "      <td>1.0</td>\n",
       "      <td>10.0</td>\n",
       "      <td>15.0</td>\n",
       "      <td>20.0</td>\n",
       "      <td>81.0</td>\n",
       "    </tr>\n",
       "    <tr>\n",
       "      <th>number_outpatient</th>\n",
       "      <td>101766.0</td>\n",
       "      <td>NaN</td>\n",
       "      <td>NaN</td>\n",
       "      <td>NaN</td>\n",
       "      <td>0.369357</td>\n",
       "      <td>1.267265</td>\n",
       "      <td>0.0</td>\n",
       "      <td>0.0</td>\n",
       "      <td>0.0</td>\n",
       "      <td>0.0</td>\n",
       "      <td>42.0</td>\n",
       "    </tr>\n",
       "    <tr>\n",
       "      <th>number_emergency</th>\n",
       "      <td>101766.0</td>\n",
       "      <td>NaN</td>\n",
       "      <td>NaN</td>\n",
       "      <td>NaN</td>\n",
       "      <td>0.197836</td>\n",
       "      <td>0.930472</td>\n",
       "      <td>0.0</td>\n",
       "      <td>0.0</td>\n",
       "      <td>0.0</td>\n",
       "      <td>0.0</td>\n",
       "      <td>76.0</td>\n",
       "    </tr>\n",
       "    <tr>\n",
       "      <th>number_inpatient</th>\n",
       "      <td>101766.0</td>\n",
       "      <td>NaN</td>\n",
       "      <td>NaN</td>\n",
       "      <td>NaN</td>\n",
       "      <td>0.635566</td>\n",
       "      <td>1.262863</td>\n",
       "      <td>0.0</td>\n",
       "      <td>0.0</td>\n",
       "      <td>0.0</td>\n",
       "      <td>1.0</td>\n",
       "      <td>21.0</td>\n",
       "    </tr>\n",
       "    <tr>\n",
       "      <th>diag_1</th>\n",
       "      <td>101766</td>\n",
       "      <td>717</td>\n",
       "      <td>428</td>\n",
       "      <td>6862</td>\n",
       "      <td>NaN</td>\n",
       "      <td>NaN</td>\n",
       "      <td>NaN</td>\n",
       "      <td>NaN</td>\n",
       "      <td>NaN</td>\n",
       "      <td>NaN</td>\n",
       "      <td>NaN</td>\n",
       "    </tr>\n",
       "    <tr>\n",
       "      <th>diag_2</th>\n",
       "      <td>101766</td>\n",
       "      <td>749</td>\n",
       "      <td>276</td>\n",
       "      <td>6752</td>\n",
       "      <td>NaN</td>\n",
       "      <td>NaN</td>\n",
       "      <td>NaN</td>\n",
       "      <td>NaN</td>\n",
       "      <td>NaN</td>\n",
       "      <td>NaN</td>\n",
       "      <td>NaN</td>\n",
       "    </tr>\n",
       "    <tr>\n",
       "      <th>diag_3</th>\n",
       "      <td>101766</td>\n",
       "      <td>790</td>\n",
       "      <td>250</td>\n",
       "      <td>11555</td>\n",
       "      <td>NaN</td>\n",
       "      <td>NaN</td>\n",
       "      <td>NaN</td>\n",
       "      <td>NaN</td>\n",
       "      <td>NaN</td>\n",
       "      <td>NaN</td>\n",
       "      <td>NaN</td>\n",
       "    </tr>\n",
       "    <tr>\n",
       "      <th>number_diagnoses</th>\n",
       "      <td>101766.0</td>\n",
       "      <td>NaN</td>\n",
       "      <td>NaN</td>\n",
       "      <td>NaN</td>\n",
       "      <td>7.422607</td>\n",
       "      <td>1.9336</td>\n",
       "      <td>1.0</td>\n",
       "      <td>6.0</td>\n",
       "      <td>8.0</td>\n",
       "      <td>9.0</td>\n",
       "      <td>16.0</td>\n",
       "    </tr>\n",
       "    <tr>\n",
       "      <th>max_glu_serum</th>\n",
       "      <td>101766</td>\n",
       "      <td>4</td>\n",
       "      <td>None</td>\n",
       "      <td>96420</td>\n",
       "      <td>NaN</td>\n",
       "      <td>NaN</td>\n",
       "      <td>NaN</td>\n",
       "      <td>NaN</td>\n",
       "      <td>NaN</td>\n",
       "      <td>NaN</td>\n",
       "      <td>NaN</td>\n",
       "    </tr>\n",
       "    <tr>\n",
       "      <th>A1Cresult</th>\n",
       "      <td>101766</td>\n",
       "      <td>4</td>\n",
       "      <td>None</td>\n",
       "      <td>84748</td>\n",
       "      <td>NaN</td>\n",
       "      <td>NaN</td>\n",
       "      <td>NaN</td>\n",
       "      <td>NaN</td>\n",
       "      <td>NaN</td>\n",
       "      <td>NaN</td>\n",
       "      <td>NaN</td>\n",
       "    </tr>\n",
       "    <tr>\n",
       "      <th>metformin</th>\n",
       "      <td>101766</td>\n",
       "      <td>4</td>\n",
       "      <td>No</td>\n",
       "      <td>81778</td>\n",
       "      <td>NaN</td>\n",
       "      <td>NaN</td>\n",
       "      <td>NaN</td>\n",
       "      <td>NaN</td>\n",
       "      <td>NaN</td>\n",
       "      <td>NaN</td>\n",
       "      <td>NaN</td>\n",
       "    </tr>\n",
       "    <tr>\n",
       "      <th>repaglinide</th>\n",
       "      <td>101766</td>\n",
       "      <td>4</td>\n",
       "      <td>No</td>\n",
       "      <td>100227</td>\n",
       "      <td>NaN</td>\n",
       "      <td>NaN</td>\n",
       "      <td>NaN</td>\n",
       "      <td>NaN</td>\n",
       "      <td>NaN</td>\n",
       "      <td>NaN</td>\n",
       "      <td>NaN</td>\n",
       "    </tr>\n",
       "    <tr>\n",
       "      <th>nateglinide</th>\n",
       "      <td>101766</td>\n",
       "      <td>4</td>\n",
       "      <td>No</td>\n",
       "      <td>101063</td>\n",
       "      <td>NaN</td>\n",
       "      <td>NaN</td>\n",
       "      <td>NaN</td>\n",
       "      <td>NaN</td>\n",
       "      <td>NaN</td>\n",
       "      <td>NaN</td>\n",
       "      <td>NaN</td>\n",
       "    </tr>\n",
       "    <tr>\n",
       "      <th>chlorpropamide</th>\n",
       "      <td>101766</td>\n",
       "      <td>4</td>\n",
       "      <td>No</td>\n",
       "      <td>101680</td>\n",
       "      <td>NaN</td>\n",
       "      <td>NaN</td>\n",
       "      <td>NaN</td>\n",
       "      <td>NaN</td>\n",
       "      <td>NaN</td>\n",
       "      <td>NaN</td>\n",
       "      <td>NaN</td>\n",
       "    </tr>\n",
       "    <tr>\n",
       "      <th>glimepiride</th>\n",
       "      <td>101766</td>\n",
       "      <td>4</td>\n",
       "      <td>No</td>\n",
       "      <td>96575</td>\n",
       "      <td>NaN</td>\n",
       "      <td>NaN</td>\n",
       "      <td>NaN</td>\n",
       "      <td>NaN</td>\n",
       "      <td>NaN</td>\n",
       "      <td>NaN</td>\n",
       "      <td>NaN</td>\n",
       "    </tr>\n",
       "    <tr>\n",
       "      <th>acetohexamide</th>\n",
       "      <td>101766</td>\n",
       "      <td>2</td>\n",
       "      <td>No</td>\n",
       "      <td>101765</td>\n",
       "      <td>NaN</td>\n",
       "      <td>NaN</td>\n",
       "      <td>NaN</td>\n",
       "      <td>NaN</td>\n",
       "      <td>NaN</td>\n",
       "      <td>NaN</td>\n",
       "      <td>NaN</td>\n",
       "    </tr>\n",
       "    <tr>\n",
       "      <th>glipizide</th>\n",
       "      <td>101766</td>\n",
       "      <td>4</td>\n",
       "      <td>No</td>\n",
       "      <td>89080</td>\n",
       "      <td>NaN</td>\n",
       "      <td>NaN</td>\n",
       "      <td>NaN</td>\n",
       "      <td>NaN</td>\n",
       "      <td>NaN</td>\n",
       "      <td>NaN</td>\n",
       "      <td>NaN</td>\n",
       "    </tr>\n",
       "    <tr>\n",
       "      <th>glyburide</th>\n",
       "      <td>101766</td>\n",
       "      <td>4</td>\n",
       "      <td>No</td>\n",
       "      <td>91116</td>\n",
       "      <td>NaN</td>\n",
       "      <td>NaN</td>\n",
       "      <td>NaN</td>\n",
       "      <td>NaN</td>\n",
       "      <td>NaN</td>\n",
       "      <td>NaN</td>\n",
       "      <td>NaN</td>\n",
       "    </tr>\n",
       "    <tr>\n",
       "      <th>tolbutamide</th>\n",
       "      <td>101766</td>\n",
       "      <td>2</td>\n",
       "      <td>No</td>\n",
       "      <td>101743</td>\n",
       "      <td>NaN</td>\n",
       "      <td>NaN</td>\n",
       "      <td>NaN</td>\n",
       "      <td>NaN</td>\n",
       "      <td>NaN</td>\n",
       "      <td>NaN</td>\n",
       "      <td>NaN</td>\n",
       "    </tr>\n",
       "    <tr>\n",
       "      <th>pioglitazone</th>\n",
       "      <td>101766</td>\n",
       "      <td>4</td>\n",
       "      <td>No</td>\n",
       "      <td>94438</td>\n",
       "      <td>NaN</td>\n",
       "      <td>NaN</td>\n",
       "      <td>NaN</td>\n",
       "      <td>NaN</td>\n",
       "      <td>NaN</td>\n",
       "      <td>NaN</td>\n",
       "      <td>NaN</td>\n",
       "    </tr>\n",
       "    <tr>\n",
       "      <th>rosiglitazone</th>\n",
       "      <td>101766</td>\n",
       "      <td>4</td>\n",
       "      <td>No</td>\n",
       "      <td>95401</td>\n",
       "      <td>NaN</td>\n",
       "      <td>NaN</td>\n",
       "      <td>NaN</td>\n",
       "      <td>NaN</td>\n",
       "      <td>NaN</td>\n",
       "      <td>NaN</td>\n",
       "      <td>NaN</td>\n",
       "    </tr>\n",
       "    <tr>\n",
       "      <th>acarbose</th>\n",
       "      <td>101766</td>\n",
       "      <td>4</td>\n",
       "      <td>No</td>\n",
       "      <td>101458</td>\n",
       "      <td>NaN</td>\n",
       "      <td>NaN</td>\n",
       "      <td>NaN</td>\n",
       "      <td>NaN</td>\n",
       "      <td>NaN</td>\n",
       "      <td>NaN</td>\n",
       "      <td>NaN</td>\n",
       "    </tr>\n",
       "    <tr>\n",
       "      <th>miglitol</th>\n",
       "      <td>101766</td>\n",
       "      <td>4</td>\n",
       "      <td>No</td>\n",
       "      <td>101728</td>\n",
       "      <td>NaN</td>\n",
       "      <td>NaN</td>\n",
       "      <td>NaN</td>\n",
       "      <td>NaN</td>\n",
       "      <td>NaN</td>\n",
       "      <td>NaN</td>\n",
       "      <td>NaN</td>\n",
       "    </tr>\n",
       "    <tr>\n",
       "      <th>troglitazone</th>\n",
       "      <td>101766</td>\n",
       "      <td>2</td>\n",
       "      <td>No</td>\n",
       "      <td>101763</td>\n",
       "      <td>NaN</td>\n",
       "      <td>NaN</td>\n",
       "      <td>NaN</td>\n",
       "      <td>NaN</td>\n",
       "      <td>NaN</td>\n",
       "      <td>NaN</td>\n",
       "      <td>NaN</td>\n",
       "    </tr>\n",
       "    <tr>\n",
       "      <th>tolazamide</th>\n",
       "      <td>101766</td>\n",
       "      <td>3</td>\n",
       "      <td>No</td>\n",
       "      <td>101727</td>\n",
       "      <td>NaN</td>\n",
       "      <td>NaN</td>\n",
       "      <td>NaN</td>\n",
       "      <td>NaN</td>\n",
       "      <td>NaN</td>\n",
       "      <td>NaN</td>\n",
       "      <td>NaN</td>\n",
       "    </tr>\n",
       "    <tr>\n",
       "      <th>examide</th>\n",
       "      <td>101766</td>\n",
       "      <td>1</td>\n",
       "      <td>No</td>\n",
       "      <td>101766</td>\n",
       "      <td>NaN</td>\n",
       "      <td>NaN</td>\n",
       "      <td>NaN</td>\n",
       "      <td>NaN</td>\n",
       "      <td>NaN</td>\n",
       "      <td>NaN</td>\n",
       "      <td>NaN</td>\n",
       "    </tr>\n",
       "    <tr>\n",
       "      <th>citoglipton</th>\n",
       "      <td>101766</td>\n",
       "      <td>1</td>\n",
       "      <td>No</td>\n",
       "      <td>101766</td>\n",
       "      <td>NaN</td>\n",
       "      <td>NaN</td>\n",
       "      <td>NaN</td>\n",
       "      <td>NaN</td>\n",
       "      <td>NaN</td>\n",
       "      <td>NaN</td>\n",
       "      <td>NaN</td>\n",
       "    </tr>\n",
       "    <tr>\n",
       "      <th>insulin</th>\n",
       "      <td>101766</td>\n",
       "      <td>4</td>\n",
       "      <td>No</td>\n",
       "      <td>47383</td>\n",
       "      <td>NaN</td>\n",
       "      <td>NaN</td>\n",
       "      <td>NaN</td>\n",
       "      <td>NaN</td>\n",
       "      <td>NaN</td>\n",
       "      <td>NaN</td>\n",
       "      <td>NaN</td>\n",
       "    </tr>\n",
       "    <tr>\n",
       "      <th>glyburide-metformin</th>\n",
       "      <td>101766</td>\n",
       "      <td>4</td>\n",
       "      <td>No</td>\n",
       "      <td>101060</td>\n",
       "      <td>NaN</td>\n",
       "      <td>NaN</td>\n",
       "      <td>NaN</td>\n",
       "      <td>NaN</td>\n",
       "      <td>NaN</td>\n",
       "      <td>NaN</td>\n",
       "      <td>NaN</td>\n",
       "    </tr>\n",
       "    <tr>\n",
       "      <th>glipizide-metformin</th>\n",
       "      <td>101766</td>\n",
       "      <td>2</td>\n",
       "      <td>No</td>\n",
       "      <td>101753</td>\n",
       "      <td>NaN</td>\n",
       "      <td>NaN</td>\n",
       "      <td>NaN</td>\n",
       "      <td>NaN</td>\n",
       "      <td>NaN</td>\n",
       "      <td>NaN</td>\n",
       "      <td>NaN</td>\n",
       "    </tr>\n",
       "    <tr>\n",
       "      <th>glimepiride-pioglitazone</th>\n",
       "      <td>101766</td>\n",
       "      <td>2</td>\n",
       "      <td>No</td>\n",
       "      <td>101765</td>\n",
       "      <td>NaN</td>\n",
       "      <td>NaN</td>\n",
       "      <td>NaN</td>\n",
       "      <td>NaN</td>\n",
       "      <td>NaN</td>\n",
       "      <td>NaN</td>\n",
       "      <td>NaN</td>\n",
       "    </tr>\n",
       "    <tr>\n",
       "      <th>metformin-rosiglitazone</th>\n",
       "      <td>101766</td>\n",
       "      <td>2</td>\n",
       "      <td>No</td>\n",
       "      <td>101764</td>\n",
       "      <td>NaN</td>\n",
       "      <td>NaN</td>\n",
       "      <td>NaN</td>\n",
       "      <td>NaN</td>\n",
       "      <td>NaN</td>\n",
       "      <td>NaN</td>\n",
       "      <td>NaN</td>\n",
       "    </tr>\n",
       "    <tr>\n",
       "      <th>metformin-pioglitazone</th>\n",
       "      <td>101766</td>\n",
       "      <td>2</td>\n",
       "      <td>No</td>\n",
       "      <td>101765</td>\n",
       "      <td>NaN</td>\n",
       "      <td>NaN</td>\n",
       "      <td>NaN</td>\n",
       "      <td>NaN</td>\n",
       "      <td>NaN</td>\n",
       "      <td>NaN</td>\n",
       "      <td>NaN</td>\n",
       "    </tr>\n",
       "    <tr>\n",
       "      <th>change</th>\n",
       "      <td>101766</td>\n",
       "      <td>2</td>\n",
       "      <td>No</td>\n",
       "      <td>54755</td>\n",
       "      <td>NaN</td>\n",
       "      <td>NaN</td>\n",
       "      <td>NaN</td>\n",
       "      <td>NaN</td>\n",
       "      <td>NaN</td>\n",
       "      <td>NaN</td>\n",
       "      <td>NaN</td>\n",
       "    </tr>\n",
       "    <tr>\n",
       "      <th>diabetesMed</th>\n",
       "      <td>101766</td>\n",
       "      <td>2</td>\n",
       "      <td>Yes</td>\n",
       "      <td>78363</td>\n",
       "      <td>NaN</td>\n",
       "      <td>NaN</td>\n",
       "      <td>NaN</td>\n",
       "      <td>NaN</td>\n",
       "      <td>NaN</td>\n",
       "      <td>NaN</td>\n",
       "      <td>NaN</td>\n",
       "    </tr>\n",
       "    <tr>\n",
       "      <th>readmitted</th>\n",
       "      <td>101766</td>\n",
       "      <td>3</td>\n",
       "      <td>NO</td>\n",
       "      <td>54864</td>\n",
       "      <td>NaN</td>\n",
       "      <td>NaN</td>\n",
       "      <td>NaN</td>\n",
       "      <td>NaN</td>\n",
       "      <td>NaN</td>\n",
       "      <td>NaN</td>\n",
       "      <td>NaN</td>\n",
       "    </tr>\n",
       "  </tbody>\n",
       "</table>\n",
       "</div>"
      ],
      "text/plain": [
       "                             count unique        top    freq  \\\n",
       "encounter_id              101766.0    NaN        NaN     NaN   \n",
       "patient_nbr               101766.0    NaN        NaN     NaN   \n",
       "race                        101766      6  Caucasian   76099   \n",
       "gender                      101766      3     Female   54708   \n",
       "age                         101766     10    [70-80)   26068   \n",
       "weight                      101766     10          ?   98569   \n",
       "admission_type_id         101766.0    NaN        NaN     NaN   \n",
       "discharge_disposition_id  101766.0    NaN        NaN     NaN   \n",
       "admission_source_id       101766.0    NaN        NaN     NaN   \n",
       "time_in_hospital          101766.0    NaN        NaN     NaN   \n",
       "payer_code                  101766     18          ?   40256   \n",
       "medical_specialty           101766     73          ?   49949   \n",
       "num_lab_procedures        101766.0    NaN        NaN     NaN   \n",
       "num_procedures            101766.0    NaN        NaN     NaN   \n",
       "num_medications           101766.0    NaN        NaN     NaN   \n",
       "number_outpatient         101766.0    NaN        NaN     NaN   \n",
       "number_emergency          101766.0    NaN        NaN     NaN   \n",
       "number_inpatient          101766.0    NaN        NaN     NaN   \n",
       "diag_1                      101766    717        428    6862   \n",
       "diag_2                      101766    749        276    6752   \n",
       "diag_3                      101766    790        250   11555   \n",
       "number_diagnoses          101766.0    NaN        NaN     NaN   \n",
       "max_glu_serum               101766      4       None   96420   \n",
       "A1Cresult                   101766      4       None   84748   \n",
       "metformin                   101766      4         No   81778   \n",
       "repaglinide                 101766      4         No  100227   \n",
       "nateglinide                 101766      4         No  101063   \n",
       "chlorpropamide              101766      4         No  101680   \n",
       "glimepiride                 101766      4         No   96575   \n",
       "acetohexamide               101766      2         No  101765   \n",
       "glipizide                   101766      4         No   89080   \n",
       "glyburide                   101766      4         No   91116   \n",
       "tolbutamide                 101766      2         No  101743   \n",
       "pioglitazone                101766      4         No   94438   \n",
       "rosiglitazone               101766      4         No   95401   \n",
       "acarbose                    101766      4         No  101458   \n",
       "miglitol                    101766      4         No  101728   \n",
       "troglitazone                101766      2         No  101763   \n",
       "tolazamide                  101766      3         No  101727   \n",
       "examide                     101766      1         No  101766   \n",
       "citoglipton                 101766      1         No  101766   \n",
       "insulin                     101766      4         No   47383   \n",
       "glyburide-metformin         101766      4         No  101060   \n",
       "glipizide-metformin         101766      2         No  101753   \n",
       "glimepiride-pioglitazone    101766      2         No  101765   \n",
       "metformin-rosiglitazone     101766      2         No  101764   \n",
       "metformin-pioglitazone      101766      2         No  101765   \n",
       "change                      101766      2         No   54755   \n",
       "diabetesMed                 101766      2        Yes   78363   \n",
       "readmitted                  101766      3         NO   54864   \n",
       "\n",
       "                                      mean               std      min  \\\n",
       "encounter_id              165201645.622978  102640295.983458  12522.0   \n",
       "patient_nbr                54330400.694947   38696359.346534    135.0   \n",
       "race                                   NaN               NaN      NaN   \n",
       "gender                                 NaN               NaN      NaN   \n",
       "age                                    NaN               NaN      NaN   \n",
       "weight                                 NaN               NaN      NaN   \n",
       "admission_type_id                 2.024006          1.445403      1.0   \n",
       "discharge_disposition_id          3.715642          5.280166      1.0   \n",
       "admission_source_id               5.754437          4.064081      1.0   \n",
       "time_in_hospital                  4.395987          2.985108      1.0   \n",
       "payer_code                             NaN               NaN      NaN   \n",
       "medical_specialty                      NaN               NaN      NaN   \n",
       "num_lab_procedures               43.095641         19.674362      1.0   \n",
       "num_procedures                     1.33973          1.705807      0.0   \n",
       "num_medications                  16.021844          8.127566      1.0   \n",
       "number_outpatient                 0.369357          1.267265      0.0   \n",
       "number_emergency                  0.197836          0.930472      0.0   \n",
       "number_inpatient                  0.635566          1.262863      0.0   \n",
       "diag_1                                 NaN               NaN      NaN   \n",
       "diag_2                                 NaN               NaN      NaN   \n",
       "diag_3                                 NaN               NaN      NaN   \n",
       "number_diagnoses                  7.422607            1.9336      1.0   \n",
       "max_glu_serum                          NaN               NaN      NaN   \n",
       "A1Cresult                              NaN               NaN      NaN   \n",
       "metformin                              NaN               NaN      NaN   \n",
       "repaglinide                            NaN               NaN      NaN   \n",
       "nateglinide                            NaN               NaN      NaN   \n",
       "chlorpropamide                         NaN               NaN      NaN   \n",
       "glimepiride                            NaN               NaN      NaN   \n",
       "acetohexamide                          NaN               NaN      NaN   \n",
       "glipizide                              NaN               NaN      NaN   \n",
       "glyburide                              NaN               NaN      NaN   \n",
       "tolbutamide                            NaN               NaN      NaN   \n",
       "pioglitazone                           NaN               NaN      NaN   \n",
       "rosiglitazone                          NaN               NaN      NaN   \n",
       "acarbose                               NaN               NaN      NaN   \n",
       "miglitol                               NaN               NaN      NaN   \n",
       "troglitazone                           NaN               NaN      NaN   \n",
       "tolazamide                             NaN               NaN      NaN   \n",
       "examide                                NaN               NaN      NaN   \n",
       "citoglipton                            NaN               NaN      NaN   \n",
       "insulin                                NaN               NaN      NaN   \n",
       "glyburide-metformin                    NaN               NaN      NaN   \n",
       "glipizide-metformin                    NaN               NaN      NaN   \n",
       "glimepiride-pioglitazone               NaN               NaN      NaN   \n",
       "metformin-rosiglitazone                NaN               NaN      NaN   \n",
       "metformin-pioglitazone                 NaN               NaN      NaN   \n",
       "change                                 NaN               NaN      NaN   \n",
       "diabetesMed                            NaN               NaN      NaN   \n",
       "readmitted                             NaN               NaN      NaN   \n",
       "\n",
       "                                 25%          50%          75%          max  \n",
       "encounter_id              84961194.0  152388987.0  230270887.5  443867222.0  \n",
       "patient_nbr               23413221.0   45505143.0  87545949.75  189502619.0  \n",
       "race                             NaN          NaN          NaN          NaN  \n",
       "gender                           NaN          NaN          NaN          NaN  \n",
       "age                              NaN          NaN          NaN          NaN  \n",
       "weight                           NaN          NaN          NaN          NaN  \n",
       "admission_type_id                1.0          1.0          3.0          8.0  \n",
       "discharge_disposition_id         1.0          1.0          4.0         28.0  \n",
       "admission_source_id              1.0          7.0          7.0         25.0  \n",
       "time_in_hospital                 2.0          4.0          6.0         14.0  \n",
       "payer_code                       NaN          NaN          NaN          NaN  \n",
       "medical_specialty                NaN          NaN          NaN          NaN  \n",
       "num_lab_procedures              31.0         44.0         57.0        132.0  \n",
       "num_procedures                   0.0          1.0          2.0          6.0  \n",
       "num_medications                 10.0         15.0         20.0         81.0  \n",
       "number_outpatient                0.0          0.0          0.0         42.0  \n",
       "number_emergency                 0.0          0.0          0.0         76.0  \n",
       "number_inpatient                 0.0          0.0          1.0         21.0  \n",
       "diag_1                           NaN          NaN          NaN          NaN  \n",
       "diag_2                           NaN          NaN          NaN          NaN  \n",
       "diag_3                           NaN          NaN          NaN          NaN  \n",
       "number_diagnoses                 6.0          8.0          9.0         16.0  \n",
       "max_glu_serum                    NaN          NaN          NaN          NaN  \n",
       "A1Cresult                        NaN          NaN          NaN          NaN  \n",
       "metformin                        NaN          NaN          NaN          NaN  \n",
       "repaglinide                      NaN          NaN          NaN          NaN  \n",
       "nateglinide                      NaN          NaN          NaN          NaN  \n",
       "chlorpropamide                   NaN          NaN          NaN          NaN  \n",
       "glimepiride                      NaN          NaN          NaN          NaN  \n",
       "acetohexamide                    NaN          NaN          NaN          NaN  \n",
       "glipizide                        NaN          NaN          NaN          NaN  \n",
       "glyburide                        NaN          NaN          NaN          NaN  \n",
       "tolbutamide                      NaN          NaN          NaN          NaN  \n",
       "pioglitazone                     NaN          NaN          NaN          NaN  \n",
       "rosiglitazone                    NaN          NaN          NaN          NaN  \n",
       "acarbose                         NaN          NaN          NaN          NaN  \n",
       "miglitol                         NaN          NaN          NaN          NaN  \n",
       "troglitazone                     NaN          NaN          NaN          NaN  \n",
       "tolazamide                       NaN          NaN          NaN          NaN  \n",
       "examide                          NaN          NaN          NaN          NaN  \n",
       "citoglipton                      NaN          NaN          NaN          NaN  \n",
       "insulin                          NaN          NaN          NaN          NaN  \n",
       "glyburide-metformin              NaN          NaN          NaN          NaN  \n",
       "glipizide-metformin              NaN          NaN          NaN          NaN  \n",
       "glimepiride-pioglitazone         NaN          NaN          NaN          NaN  \n",
       "metformin-rosiglitazone          NaN          NaN          NaN          NaN  \n",
       "metformin-pioglitazone           NaN          NaN          NaN          NaN  \n",
       "change                           NaN          NaN          NaN          NaN  \n",
       "diabetesMed                      NaN          NaN          NaN          NaN  \n",
       "readmitted                       NaN          NaN          NaN          NaN  "
      ]
     },
     "execution_count": 7,
     "metadata": {},
     "output_type": "execute_result"
    }
   ],
   "source": [
    "df.describe(include = 'all').T"
   ]
  },
  {
   "cell_type": "markdown",
   "id": "66906bad",
   "metadata": {
    "papermill": {
     "duration": 0.042015,
     "end_time": "2022-09-19T20:56:24.413876",
     "exception": false,
     "start_time": "2022-09-19T20:56:24.371861",
     "status": "completed"
    },
    "tags": []
   },
   "source": [
    "<b> How many Null Values in Data? </b>"
   ]
  },
  {
   "cell_type": "markdown",
   "id": "921957c5",
   "metadata": {
    "papermill": {
     "duration": 0.041599,
     "end_time": "2022-09-19T20:56:24.497501",
     "exception": false,
     "start_time": "2022-09-19T20:56:24.455902",
     "status": "completed"
    },
    "tags": []
   },
   "source": [
    "The data contains some null values, but null values are filled with \"?\". so we will look for '?' in each column for null values."
   ]
  },
  {
   "cell_type": "code",
   "execution_count": 8,
   "id": "0f0489d9",
   "metadata": {
    "execution": {
     "iopub.execute_input": "2022-09-19T20:56:24.585870Z",
     "iopub.status.busy": "2022-09-19T20:56:24.585134Z",
     "iopub.status.idle": "2022-09-19T20:56:25.028953Z",
     "shell.execute_reply": "2022-09-19T20:56:25.027395Z"
    },
    "papermill": {
     "duration": 0.49074,
     "end_time": "2022-09-19T20:56:25.031579",
     "exception": false,
     "start_time": "2022-09-19T20:56:24.540839",
     "status": "completed"
    },
    "tags": []
   },
   "outputs": [
    {
     "name": "stdout",
     "output_type": "stream",
     "text": [
      "encounter_id 0\n",
      "patient_nbr 0\n",
      "race 2273\n",
      "gender 0\n",
      "age 0\n",
      "weight 98569\n",
      "admission_type_id 0\n",
      "discharge_disposition_id 0\n",
      "admission_source_id 0\n",
      "time_in_hospital 0\n",
      "payer_code 40256\n",
      "medical_specialty 49949\n",
      "num_lab_procedures 0\n",
      "num_procedures 0\n",
      "num_medications 0\n",
      "number_outpatient 0\n",
      "number_emergency 0\n",
      "number_inpatient 0\n",
      "diag_1 21\n",
      "diag_2 358\n",
      "diag_3 1423\n",
      "number_diagnoses 0\n",
      "max_glu_serum 0\n",
      "A1Cresult 0\n",
      "metformin 0\n",
      "repaglinide 0\n",
      "nateglinide 0\n",
      "chlorpropamide 0\n",
      "glimepiride 0\n",
      "acetohexamide 0\n",
      "glipizide 0\n",
      "glyburide 0\n",
      "tolbutamide 0\n",
      "pioglitazone 0\n",
      "rosiglitazone 0\n",
      "acarbose 0\n",
      "miglitol 0\n",
      "troglitazone 0\n",
      "tolazamide 0\n",
      "examide 0\n",
      "citoglipton 0\n",
      "insulin 0\n",
      "glyburide-metformin 0\n",
      "glipizide-metformin 0\n",
      "glimepiride-pioglitazone 0\n",
      "metformin-rosiglitazone 0\n",
      "metformin-pioglitazone 0\n",
      "change 0\n",
      "diabetesMed 0\n",
      "readmitted 0\n"
     ]
    }
   ],
   "source": [
    "for i in df.columns:\n",
    "    print(i, df[df[i] == '?'].shape[0])"
   ]
  },
  {
   "cell_type": "markdown",
   "id": "2cfe1b69",
   "metadata": {
    "papermill": {
     "duration": 0.043515,
     "end_time": "2022-09-19T20:56:25.118299",
     "exception": false,
     "start_time": "2022-09-19T20:56:25.074784",
     "status": "completed"
    },
    "tags": []
   },
   "source": [
    "We can see that there are many null values in the columns like <b>\"medical_specialty\"</b> , <b>\"race\"</b> and <b>\"payer_code\"</b>. So we will have to fill these null values or drop the rows or columns with null values.  "
   ]
  },
  {
   "cell_type": "markdown",
   "id": "f81ddadb",
   "metadata": {
    "papermill": {
     "duration": 0.044201,
     "end_time": "2022-09-19T20:56:25.205600",
     "exception": false,
     "start_time": "2022-09-19T20:56:25.161399",
     "status": "completed"
    },
    "tags": []
   },
   "source": [
    "We start analyzing columns sequentially and will drill down the data to look for insights. We will look for Number of Patients in the data. As we know we can check from the <b>\"patient_nbr\"</b> column that how many unique patients in the data."
   ]
  },
  {
   "cell_type": "code",
   "execution_count": 9,
   "id": "ab022a07",
   "metadata": {
    "execution": {
     "iopub.execute_input": "2022-09-19T20:56:25.294226Z",
     "iopub.status.busy": "2022-09-19T20:56:25.293013Z",
     "iopub.status.idle": "2022-09-19T20:56:25.305996Z",
     "shell.execute_reply": "2022-09-19T20:56:25.304192Z"
    },
    "papermill": {
     "duration": 0.061292,
     "end_time": "2022-09-19T20:56:25.309691",
     "exception": false,
     "start_time": "2022-09-19T20:56:25.248399",
     "status": "completed"
    },
    "tags": []
   },
   "outputs": [
    {
     "name": "stdout",
     "output_type": "stream",
     "text": [
      "There are 71518 unique patients in the data.\n"
     ]
    }
   ],
   "source": [
    "print('There are', len(df['patient_nbr'].unique()), 'unique patients in the data.')"
   ]
  },
  {
   "cell_type": "code",
   "execution_count": 10,
   "id": "f9facfdc",
   "metadata": {
    "execution": {
     "iopub.execute_input": "2022-09-19T20:56:25.402162Z",
     "iopub.status.busy": "2022-09-19T20:56:25.401746Z",
     "iopub.status.idle": "2022-09-19T20:56:25.413975Z",
     "shell.execute_reply": "2022-09-19T20:56:25.412715Z"
    },
    "papermill": {
     "duration": 0.062244,
     "end_time": "2022-09-19T20:56:25.416931",
     "exception": false,
     "start_time": "2022-09-19T20:56:25.354687",
     "status": "completed"
    },
    "tags": []
   },
   "outputs": [
    {
     "name": "stdout",
     "output_type": "stream",
     "text": [
      "There are 101766 unique encounters in the data.\n"
     ]
    }
   ],
   "source": [
    "print('There are', len(df['encounter_id'].unique()), 'unique encounters in the data.')"
   ]
  },
  {
   "cell_type": "markdown",
   "id": "a4cbce8a",
   "metadata": {
    "papermill": {
     "duration": 0.044143,
     "end_time": "2022-09-19T20:56:26.321264",
     "exception": false,
     "start_time": "2022-09-19T20:56:26.277121",
     "status": "completed"
    },
    "tags": []
   },
   "source": [
    "<b>Lets analyze the label column ?</b>"
   ]
  },
  {
   "cell_type": "markdown",
   "id": "44aec5c7",
   "metadata": {
    "execution": {
     "iopub.execute_input": "2022-09-19T19:55:15.662931Z",
     "iopub.status.busy": "2022-09-19T19:55:15.662435Z",
     "iopub.status.idle": "2022-09-19T19:55:15.668365Z",
     "shell.execute_reply": "2022-09-19T19:55:15.666971Z",
     "shell.execute_reply.started": "2022-09-19T19:55:15.662894Z"
    },
    "papermill": {
     "duration": 0.04432,
     "end_time": "2022-09-19T20:56:26.411136",
     "exception": false,
     "start_time": "2022-09-19T20:56:26.366816",
     "status": "completed"
    },
    "tags": []
   },
   "source": [
    "- First of All, Lets check the Distribution of Label column. "
   ]
  },
  {
   "cell_type": "code",
   "execution_count": 11,
   "id": "04b24321",
   "metadata": {
    "execution": {
     "iopub.execute_input": "2022-09-19T20:56:26.499581Z",
     "iopub.status.busy": "2022-09-19T20:56:26.499187Z",
     "iopub.status.idle": "2022-09-19T20:56:26.515429Z",
     "shell.execute_reply": "2022-09-19T20:56:26.514008Z"
    },
    "papermill": {
     "duration": 0.063115,
     "end_time": "2022-09-19T20:56:26.518072",
     "exception": false,
     "start_time": "2022-09-19T20:56:26.454957",
     "status": "completed"
    },
    "tags": []
   },
   "outputs": [
    {
     "data": {
      "text/plain": [
       "NO     54864\n",
       ">30    35545\n",
       "<30    11357\n",
       "Name: readmitted, dtype: int64"
      ]
     },
     "execution_count": 11,
     "metadata": {},
     "output_type": "execute_result"
    }
   ],
   "source": [
    "df['readmitted'].value_counts()"
   ]
  },
  {
   "cell_type": "code",
   "execution_count": 12,
   "id": "70e71894",
   "metadata": {
    "execution": {
     "iopub.execute_input": "2022-09-19T20:56:26.607370Z",
     "iopub.status.busy": "2022-09-19T20:56:26.606947Z",
     "iopub.status.idle": "2022-09-19T20:56:26.792444Z",
     "shell.execute_reply": "2022-09-19T20:56:26.790659Z"
    },
    "papermill": {
     "duration": 0.233922,
     "end_time": "2022-09-19T20:56:26.795572",
     "exception": false,
     "start_time": "2022-09-19T20:56:26.561650",
     "status": "completed"
    },
    "tags": []
   },
   "outputs": [
    {
     "data": {
      "image/png": "[encoded data removed]",
      "text/plain": [
       "<Figure size 432x288 with 1 Axes>"
      ]
     },
     "metadata": {
      "needs_background": "light"
     },
     "output_type": "display_data"
    }
   ],
   "source": [
    "ax = sns.barplot(x=df['readmitted'].value_counts().index,   y=df['readmitted'].value_counts())\n",
    "plt.xlabel('labels', size = 12)\n",
    "plt.ylabel('# of Readmitted', size = 12)\n",
    "plt.title('Class Distribution \\n', size = 12)\n",
    "plt.show()"
   ]
  },
  {
   "cell_type": "markdown",
   "id": "a51463cf",
   "metadata": {
    "papermill": {
     "duration": 0.044317,
     "end_time": "2022-09-19T20:56:26.885781",
     "exception": false,
     "start_time": "2022-09-19T20:56:26.841464",
     "status": "completed"
    },
    "tags": []
   },
   "source": [
    "- As Approximately 50% of the data belongs to the  \"NO\" class, and other classes have less labels.\n",
    "- It will create class imbalance problem. So we will take this problem as 2 class problem.\n",
    "- We will only try to predict if the patinet will readmitted or Not, We will skip the part of less than 30 days or greater than 30 days."
   ]
  },
  {
   "cell_type": "markdown",
   "id": "91d5a2b2",
   "metadata": {
    "papermill": {
     "duration": 0.044743,
     "end_time": "2022-09-19T20:56:26.973999",
     "exception": false,
     "start_time": "2022-09-19T20:56:26.929256",
     "status": "completed"
    },
    "tags": []
   },
   "source": [
    "<b> Create 2 Class Label : </b> Created Another label to map <30 and >30 to 1 class for better Analysis and Classification."
   ]
  },
  {
   "cell_type": "code",
   "execution_count": 13,
   "id": "3b66437c",
   "metadata": {
    "execution": {
     "iopub.execute_input": "2022-09-19T20:56:27.066522Z",
     "iopub.status.busy": "2022-09-19T20:56:27.065787Z",
     "iopub.status.idle": "2022-09-19T20:56:27.080554Z",
     "shell.execute_reply": "2022-09-19T20:56:27.079358Z"
    },
    "papermill": {
     "duration": 0.064837,
     "end_time": "2022-09-19T20:56:27.083506",
     "exception": false,
     "start_time": "2022-09-19T20:56:27.018669",
     "status": "completed"
    },
    "tags": []
   },
   "outputs": [
    {
     "data": {
      "text/plain": [
       "array(['NO', '>30', '<30'], dtype=object)"
      ]
     },
     "execution_count": 13,
     "metadata": {},
     "output_type": "execute_result"
    }
   ],
   "source": [
    "df['readmitted'].unique()"
   ]
  },
  {
   "cell_type": "code",
   "execution_count": 14,
   "id": "db8f26a5",
   "metadata": {
    "execution": {
     "iopub.execute_input": "2022-09-19T20:56:27.175610Z",
     "iopub.status.busy": "2022-09-19T20:56:27.174858Z",
     "iopub.status.idle": "2022-09-19T20:56:27.204897Z",
     "shell.execute_reply": "2022-09-19T20:56:27.203552Z"
    },
    "papermill": {
     "duration": 0.078696,
     "end_time": "2022-09-19T20:56:27.207861",
     "exception": false,
     "start_time": "2022-09-19T20:56:27.129165",
     "status": "completed"
    },
    "tags": []
   },
   "outputs": [],
   "source": [
    "# Created another column and take it as 2 class problem, Label the <30 and >30 as YES and Other \"N0\" as No.\n",
    "\n",
    "def check_label(text):\n",
    "    if text == '>30' or text =='<30':\n",
    "        return 'Yes'\n",
    "    else:\n",
    "        return 'No'\n",
    "    \n",
    "df['readmitted_2'] =df['readmitted'].apply(check_label) "
   ]
  },
  {
   "cell_type": "code",
   "execution_count": 18,
   "id": "0093e75d",
   "metadata": {
    "execution": {
     "iopub.execute_input": "2022-09-19T20:56:27.298276Z",
     "iopub.status.busy": "2022-09-19T20:56:27.297819Z",
     "iopub.status.idle": "2022-09-19T20:56:27.539011Z",
     "shell.execute_reply": "2022-09-19T20:56:27.537776Z"
    },
    "papermill": {
     "duration": 0.289098,
     "end_time": "2022-09-19T20:56:27.541651",
     "exception": false,
     "start_time": "2022-09-19T20:56:27.252553",
     "status": "completed"
    },
    "tags": []
   },
   "outputs": [
    {
     "data": {
      "image/png": "[encoded data removed]",
      "text/plain": [
       "<Figure size 432x288 with 1 Axes>"
      ]
     },
     "metadata": {
      "needs_background": "light"
     },
     "output_type": "display_data"
    }
   ],
   "source": [
    "ax = sns.countplot(x='readmitted_2',   data= df)\n",
    "plt.xlabel('Readmitted', size = 12)\n",
    "plt.xticks(rotation=90, size = 12)\n",
    "plt.ylabel('Count', size = 12)\n",
    "plt.title('Distribution of Readmission Class  \\n\\n', size = 12)\n",
    "plt.show()"
   ]
  },
  {
   "cell_type": "markdown",
   "id": "5eaffbec",
   "metadata": {
    "papermill": {
     "duration": 0.044835,
     "end_time": "2022-09-19T20:56:27.630839",
     "exception": false,
     "start_time": "2022-09-19T20:56:27.586004",
     "status": "completed"
    },
    "tags": []
   },
   "source": [
    "<b> Race Column</b>\n",
    "\n",
    "Race featrure defines the race of the patient.\n",
    "According to Documentaiton the values for race can be: \n",
    "\n",
    "- Caucasian \n",
    "- Asian\n",
    "- African American  \n",
    "- Hispanic\n",
    "- other"
   ]
  },
  {
   "cell_type": "code",
   "execution_count": 15,
   "id": "d5ea742d",
   "metadata": {
    "execution": {
     "iopub.execute_input": "2022-09-19T20:56:27.721927Z",
     "iopub.status.busy": "2022-09-19T20:56:27.721520Z",
     "iopub.status.idle": "2022-09-19T20:56:27.960442Z",
     "shell.execute_reply": "2022-09-19T20:56:27.959189Z"
    },
    "papermill": {
     "duration": 0.28736,
     "end_time": "2022-09-19T20:56:27.962979",
     "exception": false,
     "start_time": "2022-09-19T20:56:27.675619",
     "status": "completed"
    },
    "tags": []
   },
   "outputs": [
    {
     "data": {
      "image/png": "[encoded data removed]",
      "text/plain": [
       "<Figure size 432x288 with 1 Axes>"
      ]
     },
     "metadata": {
      "needs_background": "light"
     },
     "output_type": "display_data"
    }
   ],
   "source": [
    "ax = sns.barplot(x=df['race'].value_counts().index,   y=df['race'].value_counts())\n",
    "plt.xlabel('Race', size = 12)\n",
    "plt.xticks(rotation=90, size = 12)\n",
    "plt.ylabel('Count', size = 12)\n",
    "plt.title('Distribution of Race of Patients \\n', size = 12)\n",
    "plt.show()"
   ]
  },
  {
   "cell_type": "markdown",
   "id": "aab86f83",
   "metadata": {
    "papermill": {
     "duration": 0.045413,
     "end_time": "2022-09-19T20:56:28.053278",
     "exception": false,
     "start_time": "2022-09-19T20:56:28.007865",
     "status": "completed"
    },
    "tags": []
   },
   "source": [
    "- The majority of the people are Caucasian, which are the people with european ancestry.\n",
    "\n",
    "- There are \"?\" in the data which means the race contains the Null values.\n",
    "- We will be needing to remove this from the data or we can also assign this with \"Other\" category."
   ]
  },
  {
   "cell_type": "code",
   "execution_count": 16,
   "id": "18e42768",
   "metadata": {
    "execution": {
     "iopub.execute_input": "2022-09-19T20:56:28.143786Z",
     "iopub.status.busy": "2022-09-19T20:56:28.143333Z",
     "iopub.status.idle": "2022-09-19T20:56:28.160652Z",
     "shell.execute_reply": "2022-09-19T20:56:28.158380Z"
    },
    "papermill": {
     "duration": 0.066463,
     "end_time": "2022-09-19T20:56:28.164143",
     "exception": false,
     "start_time": "2022-09-19T20:56:28.097680",
     "status": "completed"
    },
    "tags": []
   },
   "outputs": [],
   "source": [
    "df.loc[df['race'] == '?', 'race'] = 'Other'"
   ]
  },
  {
   "cell_type": "code",
   "execution_count": 21,
   "id": "00054044",
   "metadata": {
    "execution": {
     "iopub.execute_input": "2022-09-19T20:56:28.256594Z",
     "iopub.status.busy": "2022-09-19T20:56:28.255717Z",
     "iopub.status.idle": "2022-09-19T20:56:28.489865Z",
     "shell.execute_reply": "2022-09-19T20:56:28.488657Z"
    },
    "papermill": {
     "duration": 0.283604,
     "end_time": "2022-09-19T20:56:28.492536",
     "exception": false,
     "start_time": "2022-09-19T20:56:28.208932",
     "status": "completed"
    },
    "tags": []
   },
   "outputs": [
    {
     "data": {
      "image/png": "[encoded data removed]",
      "text/plain": [
       "<Figure size 432x288 with 1 Axes>"
      ]
     },
     "metadata": {
      "needs_background": "light"
     },
     "output_type": "display_data"
    }
   ],
   "source": [
    "ax = sns.barplot(x=df['race'].value_counts().index,   y=df['race'].value_counts())\n",
    "plt.xlabel('Race', size = 12)\n",
    "plt.xticks(rotation=90, size = 12)\n",
    "plt.ylabel('Count', size = 12)\n",
    "plt.title('Distribution of Race of Patients \\n', size = 12)\n",
    "plt.show()"
   ]
  },
  {
   "cell_type": "markdown",
   "id": "fbab6b67",
   "metadata": {
    "papermill": {
     "duration": 0.045067,
     "end_time": "2022-09-19T20:56:28.582559",
     "exception": false,
     "start_time": "2022-09-19T20:56:28.537492",
     "status": "completed"
    },
    "tags": []
   },
   "source": [
    "We replaced the Race containing value '?' with Other!"
   ]
  },
  {
   "cell_type": "markdown",
   "id": "23746706",
   "metadata": {
    "papermill": {
     "duration": 0.044294,
     "end_time": "2022-09-19T20:56:28.672354",
     "exception": false,
     "start_time": "2022-09-19T20:56:28.628060",
     "status": "completed"
    },
    "tags": []
   },
   "source": [
    "<b> What is the Gender Distribution in Data?</b>\n",
    "\n",
    "According to Documentation, The values can be,\n",
    "\n",
    "- male \n",
    "- female  \n",
    "- unknown/invalid"
   ]
  },
  {
   "cell_type": "code",
   "execution_count": 17,
   "id": "eba32980",
   "metadata": {
    "execution": {
     "iopub.execute_input": "2022-09-19T20:56:28.763874Z",
     "iopub.status.busy": "2022-09-19T20:56:28.763109Z",
     "iopub.status.idle": "2022-09-19T20:56:29.016929Z",
     "shell.execute_reply": "2022-09-19T20:56:29.015901Z"
    },
    "papermill": {
     "duration": 0.302687,
     "end_time": "2022-09-19T20:56:29.019632",
     "exception": false,
     "start_time": "2022-09-19T20:56:28.716945",
     "status": "completed"
    },
    "tags": []
   },
   "outputs": [
    {
     "data": {
      "image/png": "[encoded data removed]",
      "text/plain": [
       "<Figure size 432x288 with 1 Axes>"
      ]
     },
     "metadata": {
      "needs_background": "light"
     },
     "output_type": "display_data"
    }
   ],
   "source": [
    "ax = sns.countplot(x='gender',   data= df)\n",
    "plt.xlabel('Gender', size = 12)\n",
    "plt.xticks(rotation=90, size = 12)\n",
    "plt.ylabel('Count', size = 12)\n",
    "plt.title('Gender Distribution \\n', size = 12)\n",
    "plt.show()"
   ]
  },
  {
   "cell_type": "markdown",
   "id": "91e93431",
   "metadata": {
    "papermill": {
     "duration": 0.044697,
     "end_time": "2022-09-19T20:56:29.110419",
     "exception": false,
     "start_time": "2022-09-19T20:56:29.065722",
     "status": "completed"
    },
    "tags": []
   },
   "source": [
    "- We can see in the above figure that there are More than 50,000 Males in the data.\n",
    "- Females are close to 48,000.\n",
    "- There are some people whose gender is unknow, we can drop these rows as they are very few."
   ]
  },
  {
   "cell_type": "code",
   "execution_count": 18,
   "id": "f8697f70",
   "metadata": {
    "execution": {
     "iopub.execute_input": "2022-09-19T20:56:29.215680Z",
     "iopub.status.busy": "2022-09-19T20:56:29.214838Z",
     "iopub.status.idle": "2022-09-19T20:56:29.236533Z",
     "shell.execute_reply": "2022-09-19T20:56:29.235502Z"
    },
    "papermill": {
     "duration": 0.083753,
     "end_time": "2022-09-19T20:56:29.239754",
     "exception": false,
     "start_time": "2022-09-19T20:56:29.156001",
     "status": "completed"
    },
    "tags": []
   },
   "outputs": [
    {
     "data": {
      "text/plain": [
       "Female             54708\n",
       "Male               47055\n",
       "Unknown/Invalid        3\n",
       "Name: gender, dtype: int64"
      ]
     },
     "execution_count": 18,
     "metadata": {},
     "output_type": "execute_result"
    }
   ],
   "source": [
    "df['gender'].value_counts()"
   ]
  },
  {
   "cell_type": "markdown",
   "id": "cbcf8242",
   "metadata": {
    "papermill": {
     "duration": 0.044812,
     "end_time": "2022-09-19T20:56:29.339936",
     "exception": false,
     "start_time": "2022-09-19T20:56:29.295124",
     "status": "completed"
    },
    "tags": []
   },
   "source": [
    "- There are only 3 Encounter for which we dont know the gender, It may create distribution error in the data. \n",
    "- So it is better to drop these rows from the data\n"
   ]
  },
  {
   "cell_type": "code",
   "execution_count": 19,
   "id": "bfaa7ebc",
   "metadata": {
    "execution": {
     "iopub.execute_input": "2022-09-19T20:56:29.433389Z",
     "iopub.status.busy": "2022-09-19T20:56:29.432917Z",
     "iopub.status.idle": "2022-09-19T20:56:29.761775Z",
     "shell.execute_reply": "2022-09-19T20:56:29.760598Z"
    },
    "papermill": {
     "duration": 0.378197,
     "end_time": "2022-09-19T20:56:29.764180",
     "exception": false,
     "start_time": "2022-09-19T20:56:29.385983",
     "status": "completed"
    },
    "tags": []
   },
   "outputs": [
    {
     "data": {
      "text/html": [
       "<div>\n",
       "<style scoped>\n",
       "    .dataframe tbody tr th:only-of-type {\n",
       "        vertical-align: middle;\n",
       "    }\n",
       "\n",
       "    .dataframe tbody tr th {\n",
       "        vertical-align: top;\n",
       "    }\n",
       "\n",
       "    .dataframe thead th {\n",
       "        text-align: right;\n",
       "    }\n",
       "</style>\n",
       "<table border=\"1\" class=\"dataframe\">\n",
       "  <thead>\n",
       "    <tr style=\"text-align: right;\">\n",
       "      <th></th>\n",
       "      <th>encounter_id</th>\n",
       "      <th>patient_nbr</th>\n",
       "      <th>race</th>\n",
       "      <th>gender</th>\n",
       "      <th>age</th>\n",
       "      <th>weight</th>\n",
       "      <th>admission_type_id</th>\n",
       "      <th>discharge_disposition_id</th>\n",
       "      <th>admission_source_id</th>\n",
       "      <th>time_in_hospital</th>\n",
       "      <th>...</th>\n",
       "      <th>insulin</th>\n",
       "      <th>glyburide-metformin</th>\n",
       "      <th>glipizide-metformin</th>\n",
       "      <th>glimepiride-pioglitazone</th>\n",
       "      <th>metformin-rosiglitazone</th>\n",
       "      <th>metformin-pioglitazone</th>\n",
       "      <th>change</th>\n",
       "      <th>diabetesMed</th>\n",
       "      <th>readmitted</th>\n",
       "      <th>readmitted_2</th>\n",
       "    </tr>\n",
       "  </thead>\n",
       "  <tbody>\n",
       "    <tr>\n",
       "      <th>0</th>\n",
       "      <td>2278392</td>\n",
       "      <td>8222157</td>\n",
       "      <td>Caucasian</td>\n",
       "      <td>Female</td>\n",
       "      <td>[0-10)</td>\n",
       "      <td>?</td>\n",
       "      <td>6</td>\n",
       "      <td>25</td>\n",
       "      <td>1</td>\n",
       "      <td>1</td>\n",
       "      <td>...</td>\n",
       "      <td>No</td>\n",
       "      <td>No</td>\n",
       "      <td>No</td>\n",
       "      <td>No</td>\n",
       "      <td>No</td>\n",
       "      <td>No</td>\n",
       "      <td>No</td>\n",
       "      <td>No</td>\n",
       "      <td>NO</td>\n",
       "      <td>No</td>\n",
       "    </tr>\n",
       "    <tr>\n",
       "      <th>1</th>\n",
       "      <td>149190</td>\n",
       "      <td>55629189</td>\n",
       "      <td>Caucasian</td>\n",
       "      <td>Female</td>\n",
       "      <td>[10-20)</td>\n",
       "      <td>?</td>\n",
       "      <td>1</td>\n",
       "      <td>1</td>\n",
       "      <td>7</td>\n",
       "      <td>3</td>\n",
       "      <td>...</td>\n",
       "      <td>Up</td>\n",
       "      <td>No</td>\n",
       "      <td>No</td>\n",
       "      <td>No</td>\n",
       "      <td>No</td>\n",
       "      <td>No</td>\n",
       "      <td>Ch</td>\n",
       "      <td>Yes</td>\n",
       "      <td>&gt;30</td>\n",
       "      <td>Yes</td>\n",
       "    </tr>\n",
       "    <tr>\n",
       "      <th>2</th>\n",
       "      <td>64410</td>\n",
       "      <td>86047875</td>\n",
       "      <td>AfricanAmerican</td>\n",
       "      <td>Female</td>\n",
       "      <td>[20-30)</td>\n",
       "      <td>?</td>\n",
       "      <td>1</td>\n",
       "      <td>1</td>\n",
       "      <td>7</td>\n",
       "      <td>2</td>\n",
       "      <td>...</td>\n",
       "      <td>No</td>\n",
       "      <td>No</td>\n",
       "      <td>No</td>\n",
       "      <td>No</td>\n",
       "      <td>No</td>\n",
       "      <td>No</td>\n",
       "      <td>No</td>\n",
       "      <td>Yes</td>\n",
       "      <td>NO</td>\n",
       "      <td>No</td>\n",
       "    </tr>\n",
       "    <tr>\n",
       "      <th>3</th>\n",
       "      <td>500364</td>\n",
       "      <td>82442376</td>\n",
       "      <td>Caucasian</td>\n",
       "      <td>Male</td>\n",
       "      <td>[30-40)</td>\n",
       "      <td>?</td>\n",
       "      <td>1</td>\n",
       "      <td>1</td>\n",
       "      <td>7</td>\n",
       "      <td>2</td>\n",
       "      <td>...</td>\n",
       "      <td>Up</td>\n",
       "      <td>No</td>\n",
       "      <td>No</td>\n",
       "      <td>No</td>\n",
       "      <td>No</td>\n",
       "      <td>No</td>\n",
       "      <td>Ch</td>\n",
       "      <td>Yes</td>\n",
       "      <td>NO</td>\n",
       "      <td>No</td>\n",
       "    </tr>\n",
       "    <tr>\n",
       "      <th>4</th>\n",
       "      <td>16680</td>\n",
       "      <td>42519267</td>\n",
       "      <td>Caucasian</td>\n",
       "      <td>Male</td>\n",
       "      <td>[40-50)</td>\n",
       "      <td>?</td>\n",
       "      <td>1</td>\n",
       "      <td>1</td>\n",
       "      <td>7</td>\n",
       "      <td>1</td>\n",
       "      <td>...</td>\n",
       "      <td>Steady</td>\n",
       "      <td>No</td>\n",
       "      <td>No</td>\n",
       "      <td>No</td>\n",
       "      <td>No</td>\n",
       "      <td>No</td>\n",
       "      <td>Ch</td>\n",
       "      <td>Yes</td>\n",
       "      <td>NO</td>\n",
       "      <td>No</td>\n",
       "    </tr>\n",
       "    <tr>\n",
       "      <th>...</th>\n",
       "      <td>...</td>\n",
       "      <td>...</td>\n",
       "      <td>...</td>\n",
       "      <td>...</td>\n",
       "      <td>...</td>\n",
       "      <td>...</td>\n",
       "      <td>...</td>\n",
       "      <td>...</td>\n",
       "      <td>...</td>\n",
       "      <td>...</td>\n",
       "      <td>...</td>\n",
       "      <td>...</td>\n",
       "      <td>...</td>\n",
       "      <td>...</td>\n",
       "      <td>...</td>\n",
       "      <td>...</td>\n",
       "      <td>...</td>\n",
       "      <td>...</td>\n",
       "      <td>...</td>\n",
       "      <td>...</td>\n",
       "      <td>...</td>\n",
       "    </tr>\n",
       "    <tr>\n",
       "      <th>101761</th>\n",
       "      <td>443847548</td>\n",
       "      <td>100162476</td>\n",
       "      <td>AfricanAmerican</td>\n",
       "      <td>Male</td>\n",
       "      <td>[70-80)</td>\n",
       "      <td>?</td>\n",
       "      <td>1</td>\n",
       "      <td>3</td>\n",
       "      <td>7</td>\n",
       "      <td>3</td>\n",
       "      <td>...</td>\n",
       "      <td>Down</td>\n",
       "      <td>No</td>\n",
       "      <td>No</td>\n",
       "      <td>No</td>\n",
       "      <td>No</td>\n",
       "      <td>No</td>\n",
       "      <td>Ch</td>\n",
       "      <td>Yes</td>\n",
       "      <td>&gt;30</td>\n",
       "      <td>Yes</td>\n",
       "    </tr>\n",
       "    <tr>\n",
       "      <th>101762</th>\n",
       "      <td>443847782</td>\n",
       "      <td>74694222</td>\n",
       "      <td>AfricanAmerican</td>\n",
       "      <td>Female</td>\n",
       "      <td>[80-90)</td>\n",
       "      <td>?</td>\n",
       "      <td>1</td>\n",
       "      <td>4</td>\n",
       "      <td>5</td>\n",
       "      <td>5</td>\n",
       "      <td>...</td>\n",
       "      <td>Steady</td>\n",
       "      <td>No</td>\n",
       "      <td>No</td>\n",
       "      <td>No</td>\n",
       "      <td>No</td>\n",
       "      <td>No</td>\n",
       "      <td>No</td>\n",
       "      <td>Yes</td>\n",
       "      <td>NO</td>\n",
       "      <td>No</td>\n",
       "    </tr>\n",
       "    <tr>\n",
       "      <th>101763</th>\n",
       "      <td>443854148</td>\n",
       "      <td>41088789</td>\n",
       "      <td>Caucasian</td>\n",
       "      <td>Male</td>\n",
       "      <td>[70-80)</td>\n",
       "      <td>?</td>\n",
       "      <td>1</td>\n",
       "      <td>1</td>\n",
       "      <td>7</td>\n",
       "      <td>1</td>\n",
       "      <td>...</td>\n",
       "      <td>Down</td>\n",
       "      <td>No</td>\n",
       "      <td>No</td>\n",
       "      <td>No</td>\n",
       "      <td>No</td>\n",
       "      <td>No</td>\n",
       "      <td>Ch</td>\n",
       "      <td>Yes</td>\n",
       "      <td>NO</td>\n",
       "      <td>No</td>\n",
       "    </tr>\n",
       "    <tr>\n",
       "      <th>101764</th>\n",
       "      <td>443857166</td>\n",
       "      <td>31693671</td>\n",
       "      <td>Caucasian</td>\n",
       "      <td>Female</td>\n",
       "      <td>[80-90)</td>\n",
       "      <td>?</td>\n",
       "      <td>2</td>\n",
       "      <td>3</td>\n",
       "      <td>7</td>\n",
       "      <td>10</td>\n",
       "      <td>...</td>\n",
       "      <td>Up</td>\n",
       "      <td>No</td>\n",
       "      <td>No</td>\n",
       "      <td>No</td>\n",
       "      <td>No</td>\n",
       "      <td>No</td>\n",
       "      <td>Ch</td>\n",
       "      <td>Yes</td>\n",
       "      <td>NO</td>\n",
       "      <td>No</td>\n",
       "    </tr>\n",
       "    <tr>\n",
       "      <th>101765</th>\n",
       "      <td>443867222</td>\n",
       "      <td>175429310</td>\n",
       "      <td>Caucasian</td>\n",
       "      <td>Male</td>\n",
       "      <td>[70-80)</td>\n",
       "      <td>?</td>\n",
       "      <td>1</td>\n",
       "      <td>1</td>\n",
       "      <td>7</td>\n",
       "      <td>6</td>\n",
       "      <td>...</td>\n",
       "      <td>No</td>\n",
       "      <td>No</td>\n",
       "      <td>No</td>\n",
       "      <td>No</td>\n",
       "      <td>No</td>\n",
       "      <td>No</td>\n",
       "      <td>No</td>\n",
       "      <td>No</td>\n",
       "      <td>NO</td>\n",
       "      <td>No</td>\n",
       "    </tr>\n",
       "  </tbody>\n",
       "</table>\n",
       "<p>101763 rows × 51 columns</p>\n",
       "</div>"
      ],
      "text/plain": [
       "        encounter_id  patient_nbr             race  gender      age weight  \\\n",
       "0            2278392      8222157        Caucasian  Female   [0-10)      ?   \n",
       "1             149190     55629189        Caucasian  Female  [10-20)      ?   \n",
       "2              64410     86047875  AfricanAmerican  Female  [20-30)      ?   \n",
       "3             500364     82442376        Caucasian    Male  [30-40)      ?   \n",
       "4              16680     42519267        Caucasian    Male  [40-50)      ?   \n",
       "...              ...          ...              ...     ...      ...    ...   \n",
       "101761     443847548    100162476  AfricanAmerican    Male  [70-80)      ?   \n",
       "101762     443847782     74694222  AfricanAmerican  Female  [80-90)      ?   \n",
       "101763     443854148     41088789        Caucasian    Male  [70-80)      ?   \n",
       "101764     443857166     31693671        Caucasian  Female  [80-90)      ?   \n",
       "101765     443867222    175429310        Caucasian    Male  [70-80)      ?   \n",
       "\n",
       "        admission_type_id  discharge_disposition_id  admission_source_id  \\\n",
       "0                       6                        25                    1   \n",
       "1                       1                         1                    7   \n",
       "2                       1                         1                    7   \n",
       "3                       1                         1                    7   \n",
       "4                       1                         1                    7   \n",
       "...                   ...                       ...                  ...   \n",
       "101761                  1                         3                    7   \n",
       "101762                  1                         4                    5   \n",
       "101763                  1                         1                    7   \n",
       "101764                  2                         3                    7   \n",
       "101765                  1                         1                    7   \n",
       "\n",
       "        time_in_hospital  ... insulin glyburide-metformin  \\\n",
       "0                      1  ...      No                  No   \n",
       "1                      3  ...      Up                  No   \n",
       "2                      2  ...      No                  No   \n",
       "3                      2  ...      Up                  No   \n",
       "4                      1  ...  Steady                  No   \n",
       "...                  ...  ...     ...                 ...   \n",
       "101761                 3  ...    Down                  No   \n",
       "101762                 5  ...  Steady                  No   \n",
       "101763                 1  ...    Down                  No   \n",
       "101764                10  ...      Up                  No   \n",
       "101765                 6  ...      No                  No   \n",
       "\n",
       "        glipizide-metformin  glimepiride-pioglitazone  \\\n",
       "0                        No                        No   \n",
       "1                        No                        No   \n",
       "2                        No                        No   \n",
       "3                        No                        No   \n",
       "4                        No                        No   \n",
       "...                     ...                       ...   \n",
       "101761                   No                        No   \n",
       "101762                   No                        No   \n",
       "101763                   No                        No   \n",
       "101764                   No                        No   \n",
       "101765                   No                        No   \n",
       "\n",
       "        metformin-rosiglitazone  metformin-pioglitazone  change  diabetesMed  \\\n",
       "0                            No                      No      No           No   \n",
       "1                            No                      No      Ch          Yes   \n",
       "2                            No                      No      No          Yes   \n",
       "3                            No                      No      Ch          Yes   \n",
       "4                            No                      No      Ch          Yes   \n",
       "...                         ...                     ...     ...          ...   \n",
       "101761                       No                      No      Ch          Yes   \n",
       "101762                       No                      No      No          Yes   \n",
       "101763                       No                      No      Ch          Yes   \n",
       "101764                       No                      No      Ch          Yes   \n",
       "101765                       No                      No      No           No   \n",
       "\n",
       "       readmitted readmitted_2  \n",
       "0              NO           No  \n",
       "1             >30          Yes  \n",
       "2              NO           No  \n",
       "3              NO           No  \n",
       "4              NO           No  \n",
       "...           ...          ...  \n",
       "101761        >30          Yes  \n",
       "101762         NO           No  \n",
       "101763         NO           No  \n",
       "101764         NO           No  \n",
       "101765         NO           No  \n",
       "\n",
       "[101763 rows x 51 columns]"
      ]
     },
     "execution_count": 19,
     "metadata": {},
     "output_type": "execute_result"
    }
   ],
   "source": [
    "df[df['gender']!='Unknown/Invalid']"
   ]
  },
  {
   "cell_type": "code",
   "execution_count": 20,
   "id": "d7d622a4",
   "metadata": {
    "execution": {
     "iopub.execute_input": "2022-09-19T20:56:29.858958Z",
     "iopub.status.busy": "2022-09-19T20:56:29.858504Z",
     "iopub.status.idle": "2022-09-19T20:56:29.942375Z",
     "shell.execute_reply": "2022-09-19T20:56:29.941158Z"
    },
    "papermill": {
     "duration": 0.134067,
     "end_time": "2022-09-19T20:56:29.945301",
     "exception": false,
     "start_time": "2022-09-19T20:56:29.811234",
     "status": "completed"
    },
    "tags": []
   },
   "outputs": [],
   "source": [
    "# Drop the \"Unknown/Invalid\" gender of the data.\n",
    "df.drop(df[df['gender'] == 'Unknown/Invalid'].index, inplace = True)"
   ]
  },
  {
   "cell_type": "code",
   "execution_count": 21,
   "id": "f01d1371",
   "metadata": {
    "execution": {
     "iopub.execute_input": "2022-09-19T20:56:30.042270Z",
     "iopub.status.busy": "2022-09-19T20:56:30.041850Z",
     "iopub.status.idle": "2022-09-19T20:56:30.048300Z",
     "shell.execute_reply": "2022-09-19T20:56:30.046830Z"
    },
    "papermill": {
     "duration": 0.058446,
     "end_time": "2022-09-19T20:56:30.050934",
     "exception": false,
     "start_time": "2022-09-19T20:56:29.992488",
     "status": "completed"
    },
    "tags": []
   },
   "outputs": [],
   "source": [
    "df.reset_index(inplace = True, drop = True)"
   ]
  },
  {
   "cell_type": "code",
   "execution_count": 22,
   "id": "b5dc1e64",
   "metadata": {
    "execution": {
     "iopub.execute_input": "2022-09-19T20:56:30.150022Z",
     "iopub.status.busy": "2022-09-19T20:56:30.149217Z",
     "iopub.status.idle": "2022-09-19T20:56:30.173094Z",
     "shell.execute_reply": "2022-09-19T20:56:30.171816Z"
    },
    "papermill": {
     "duration": 0.076306,
     "end_time": "2022-09-19T20:56:30.175875",
     "exception": false,
     "start_time": "2022-09-19T20:56:30.099569",
     "status": "completed"
    },
    "tags": []
   },
   "outputs": [
    {
     "data": {
      "text/html": [
       "<div>\n",
       "<style scoped>\n",
       "    .dataframe tbody tr th:only-of-type {\n",
       "        vertical-align: middle;\n",
       "    }\n",
       "\n",
       "    .dataframe tbody tr th {\n",
       "        vertical-align: top;\n",
       "    }\n",
       "\n",
       "    .dataframe thead th {\n",
       "        text-align: right;\n",
       "    }\n",
       "</style>\n",
       "<table border=\"1\" class=\"dataframe\">\n",
       "  <thead>\n",
       "    <tr style=\"text-align: right;\">\n",
       "      <th></th>\n",
       "      <th>encounter_id</th>\n",
       "      <th>patient_nbr</th>\n",
       "      <th>race</th>\n",
       "      <th>gender</th>\n",
       "      <th>age</th>\n",
       "      <th>weight</th>\n",
       "      <th>admission_type_id</th>\n",
       "      <th>discharge_disposition_id</th>\n",
       "      <th>admission_source_id</th>\n",
       "      <th>time_in_hospital</th>\n",
       "      <th>...</th>\n",
       "      <th>insulin</th>\n",
       "      <th>glyburide-metformin</th>\n",
       "      <th>glipizide-metformin</th>\n",
       "      <th>glimepiride-pioglitazone</th>\n",
       "      <th>metformin-rosiglitazone</th>\n",
       "      <th>metformin-pioglitazone</th>\n",
       "      <th>change</th>\n",
       "      <th>diabetesMed</th>\n",
       "      <th>readmitted</th>\n",
       "      <th>readmitted_2</th>\n",
       "    </tr>\n",
       "  </thead>\n",
       "  <tbody>\n",
       "    <tr>\n",
       "      <th>0</th>\n",
       "      <td>2278392</td>\n",
       "      <td>8222157</td>\n",
       "      <td>Caucasian</td>\n",
       "      <td>Female</td>\n",
       "      <td>[0-10)</td>\n",
       "      <td>?</td>\n",
       "      <td>6</td>\n",
       "      <td>25</td>\n",
       "      <td>1</td>\n",
       "      <td>1</td>\n",
       "      <td>...</td>\n",
       "      <td>No</td>\n",
       "      <td>No</td>\n",
       "      <td>No</td>\n",
       "      <td>No</td>\n",
       "      <td>No</td>\n",
       "      <td>No</td>\n",
       "      <td>No</td>\n",
       "      <td>No</td>\n",
       "      <td>NO</td>\n",
       "      <td>No</td>\n",
       "    </tr>\n",
       "    <tr>\n",
       "      <th>1</th>\n",
       "      <td>149190</td>\n",
       "      <td>55629189</td>\n",
       "      <td>Caucasian</td>\n",
       "      <td>Female</td>\n",
       "      <td>[10-20)</td>\n",
       "      <td>?</td>\n",
       "      <td>1</td>\n",
       "      <td>1</td>\n",
       "      <td>7</td>\n",
       "      <td>3</td>\n",
       "      <td>...</td>\n",
       "      <td>Up</td>\n",
       "      <td>No</td>\n",
       "      <td>No</td>\n",
       "      <td>No</td>\n",
       "      <td>No</td>\n",
       "      <td>No</td>\n",
       "      <td>Ch</td>\n",
       "      <td>Yes</td>\n",
       "      <td>&gt;30</td>\n",
       "      <td>Yes</td>\n",
       "    </tr>\n",
       "    <tr>\n",
       "      <th>2</th>\n",
       "      <td>64410</td>\n",
       "      <td>86047875</td>\n",
       "      <td>AfricanAmerican</td>\n",
       "      <td>Female</td>\n",
       "      <td>[20-30)</td>\n",
       "      <td>?</td>\n",
       "      <td>1</td>\n",
       "      <td>1</td>\n",
       "      <td>7</td>\n",
       "      <td>2</td>\n",
       "      <td>...</td>\n",
       "      <td>No</td>\n",
       "      <td>No</td>\n",
       "      <td>No</td>\n",
       "      <td>No</td>\n",
       "      <td>No</td>\n",
       "      <td>No</td>\n",
       "      <td>No</td>\n",
       "      <td>Yes</td>\n",
       "      <td>NO</td>\n",
       "      <td>No</td>\n",
       "    </tr>\n",
       "    <tr>\n",
       "      <th>3</th>\n",
       "      <td>500364</td>\n",
       "      <td>82442376</td>\n",
       "      <td>Caucasian</td>\n",
       "      <td>Male</td>\n",
       "      <td>[30-40)</td>\n",
       "      <td>?</td>\n",
       "      <td>1</td>\n",
       "      <td>1</td>\n",
       "      <td>7</td>\n",
       "      <td>2</td>\n",
       "      <td>...</td>\n",
       "      <td>Up</td>\n",
       "      <td>No</td>\n",
       "      <td>No</td>\n",
       "      <td>No</td>\n",
       "      <td>No</td>\n",
       "      <td>No</td>\n",
       "      <td>Ch</td>\n",
       "      <td>Yes</td>\n",
       "      <td>NO</td>\n",
       "      <td>No</td>\n",
       "    </tr>\n",
       "    <tr>\n",
       "      <th>4</th>\n",
       "      <td>16680</td>\n",
       "      <td>42519267</td>\n",
       "      <td>Caucasian</td>\n",
       "      <td>Male</td>\n",
       "      <td>[40-50)</td>\n",
       "      <td>?</td>\n",
       "      <td>1</td>\n",
       "      <td>1</td>\n",
       "      <td>7</td>\n",
       "      <td>1</td>\n",
       "      <td>...</td>\n",
       "      <td>Steady</td>\n",
       "      <td>No</td>\n",
       "      <td>No</td>\n",
       "      <td>No</td>\n",
       "      <td>No</td>\n",
       "      <td>No</td>\n",
       "      <td>Ch</td>\n",
       "      <td>Yes</td>\n",
       "      <td>NO</td>\n",
       "      <td>No</td>\n",
       "    </tr>\n",
       "  </tbody>\n",
       "</table>\n",
       "<p>5 rows × 51 columns</p>\n",
       "</div>"
      ],
      "text/plain": [
       "   encounter_id  patient_nbr             race  gender      age weight  \\\n",
       "0       2278392      8222157        Caucasian  Female   [0-10)      ?   \n",
       "1        149190     55629189        Caucasian  Female  [10-20)      ?   \n",
       "2         64410     86047875  AfricanAmerican  Female  [20-30)      ?   \n",
       "3        500364     82442376        Caucasian    Male  [30-40)      ?   \n",
       "4         16680     42519267        Caucasian    Male  [40-50)      ?   \n",
       "\n",
       "   admission_type_id  discharge_disposition_id  admission_source_id  \\\n",
       "0                  6                        25                    1   \n",
       "1                  1                         1                    7   \n",
       "2                  1                         1                    7   \n",
       "3                  1                         1                    7   \n",
       "4                  1                         1                    7   \n",
       "\n",
       "   time_in_hospital  ... insulin glyburide-metformin  glipizide-metformin  \\\n",
       "0                 1  ...      No                  No                   No   \n",
       "1                 3  ...      Up                  No                   No   \n",
       "2                 2  ...      No                  No                   No   \n",
       "3                 2  ...      Up                  No                   No   \n",
       "4                 1  ...  Steady                  No                   No   \n",
       "\n",
       "   glimepiride-pioglitazone  metformin-rosiglitazone  metformin-pioglitazone  \\\n",
       "0                        No                       No                      No   \n",
       "1                        No                       No                      No   \n",
       "2                        No                       No                      No   \n",
       "3                        No                       No                      No   \n",
       "4                        No                       No                      No   \n",
       "\n",
       "   change  diabetesMed readmitted readmitted_2  \n",
       "0      No           No         NO           No  \n",
       "1      Ch          Yes        >30          Yes  \n",
       "2      No          Yes         NO           No  \n",
       "3      Ch          Yes         NO           No  \n",
       "4      Ch          Yes         NO           No  \n",
       "\n",
       "[5 rows x 51 columns]"
      ]
     },
     "execution_count": 22,
     "metadata": {},
     "output_type": "execute_result"
    }
   ],
   "source": [
    "df.head()"
   ]
  },
  {
   "cell_type": "markdown",
   "id": "5778278a",
   "metadata": {
    "papermill": {
     "duration": 0.045819,
     "end_time": "2022-09-19T20:56:30.268871",
     "exception": false,
     "start_time": "2022-09-19T20:56:30.223052",
     "status": "completed"
    },
    "tags": []
   },
   "source": [
    "<b>Relationship of Gender and Readmitted Overall</b>"
   ]
  },
  {
   "cell_type": "code",
   "execution_count": 23,
   "id": "4c3c03cf",
   "metadata": {
    "execution": {
     "iopub.execute_input": "2022-09-19T20:56:30.364985Z",
     "iopub.status.busy": "2022-09-19T20:56:30.364578Z",
     "iopub.status.idle": "2022-09-19T20:56:30.695536Z",
     "shell.execute_reply": "2022-09-19T20:56:30.694104Z"
    },
    "papermill": {
     "duration": 0.382302,
     "end_time": "2022-09-19T20:56:30.698244",
     "exception": false,
     "start_time": "2022-09-19T20:56:30.315942",
     "status": "completed"
    },
    "tags": []
   },
   "outputs": [
    {
     "data": {
      "image/png": "[encoded data removed]",
      "text/plain": [
       "<Figure size 432x288 with 1 Axes>"
      ]
     },
     "metadata": {
      "needs_background": "light"
     },
     "output_type": "display_data"
    }
   ],
   "source": [
    "ax = sns.countplot(x=\"gender\", hue=\"readmitted_2\", data=df)\n",
    "plt.xlabel('Gender', size = 12)\n",
    "plt.xticks(rotation=90, size = 12)\n",
    "plt.ylabel('Count', size = 12)\n",
    "plt.title('Gender vs Readmitted \\n', size = 12)\n",
    "plt.show()"
   ]
  },
  {
   "cell_type": "markdown",
   "id": "141f9981",
   "metadata": {
    "papermill": {
     "duration": 0.046736,
     "end_time": "2022-09-19T20:56:30.793035",
     "exception": false,
     "start_time": "2022-09-19T20:56:30.746299",
     "status": "completed"
    },
    "tags": []
   },
   "source": [
    "<b>What Age of People are there in data?</b>"
   ]
  },
  {
   "cell_type": "code",
   "execution_count": 24,
   "id": "0145b4b2",
   "metadata": {
    "execution": {
     "iopub.execute_input": "2022-09-19T20:56:30.888836Z",
     "iopub.status.busy": "2022-09-19T20:56:30.888429Z",
     "iopub.status.idle": "2022-09-19T20:56:31.196693Z",
     "shell.execute_reply": "2022-09-19T20:56:31.195714Z"
    },
    "papermill": {
     "duration": 0.359631,
     "end_time": "2022-09-19T20:56:31.199790",
     "exception": false,
     "start_time": "2022-09-19T20:56:30.840159",
     "status": "completed"
    },
    "tags": []
   },
   "outputs": [
    {
     "data": {
      "image/png": "[encoded data removed]",
      "text/plain": [
       "<Figure size 432x288 with 1 Axes>"
      ]
     },
     "metadata": {
      "needs_background": "light"
     },
     "output_type": "display_data"
    }
   ],
   "source": [
    "ax = sns.countplot(x='age',   data= df)\n",
    "plt.xlabel('Age', size = 12)\n",
    "plt.xticks(rotation=90, size = 12)\n",
    "plt.ylabel('Count', size = 12)\n",
    "plt.title('Age Distribution \\n', size = 12)\n",
    "plt.show()"
   ]
  },
  {
   "cell_type": "markdown",
   "id": "4d79567d",
   "metadata": {
    "papermill": {
     "duration": 0.051849,
     "end_time": "2022-09-19T20:56:31.312856",
     "exception": false,
     "start_time": "2022-09-19T20:56:31.261007",
     "status": "completed"
    },
    "tags": []
   },
   "source": [
    "- As per the Literature, The problem of Readmission is common in Older People. "
   ]
  },
  {
   "cell_type": "markdown",
   "id": "04bb973b",
   "metadata": {
    "papermill": {
     "duration": 0.048938,
     "end_time": "2022-09-19T20:56:31.415384",
     "exception": false,
     "start_time": "2022-09-19T20:56:31.366446",
     "status": "completed"
    },
    "tags": []
   },
   "source": [
    "<b>RelationShip Between and Age and Readmission ? </b>"
   ]
  },
  {
   "cell_type": "code",
   "execution_count": 25,
   "id": "3cd9bac3",
   "metadata": {
    "execution": {
     "iopub.execute_input": "2022-09-19T20:56:31.522794Z",
     "iopub.status.busy": "2022-09-19T20:56:31.522359Z",
     "iopub.status.idle": "2022-09-19T20:56:31.935725Z",
     "shell.execute_reply": "2022-09-19T20:56:31.934517Z"
    },
    "papermill": {
     "duration": 0.468533,
     "end_time": "2022-09-19T20:56:31.938334",
     "exception": false,
     "start_time": "2022-09-19T20:56:31.469801",
     "status": "completed"
    },
    "tags": []
   },
   "outputs": [
    {
     "data": {
      "image/png": "[encoded data removed]",
      "text/plain": [
       "<Figure size 432x288 with 1 Axes>"
      ]
     },
     "metadata": {
      "needs_background": "light"
     },
     "output_type": "display_data"
    }
   ],
   "source": [
    "ax = sns.countplot(x=\"age\", hue=\"readmitted_2\", data=df)\n",
    "plt.xlabel('Age', size = 12)\n",
    "plt.xticks(rotation=90, size = 12)\n",
    "plt.ylabel('Count', size = 12)\n",
    "plt.title('Age vs Readmitted \\n', size = 12)\n",
    "plt.show()"
   ]
  },
  {
   "cell_type": "markdown",
   "id": "85ccd2b9",
   "metadata": {
    "papermill": {
     "duration": 0.048513,
     "end_time": "2022-09-19T20:56:32.035176",
     "exception": false,
     "start_time": "2022-09-19T20:56:31.986663",
     "status": "completed"
    },
    "tags": []
   },
   "source": [
    "- As we mentioned above, The relationship of older Patients and Readmission is Strong as Mostly Older Patients are at high risk of Readmission.\n",
    "\n",
    "- And you can also see from the data the Mostly Older Patient are Readmitted, and younger people not tend to readmit. "
   ]
  },
  {
   "cell_type": "markdown",
   "id": "9e88ba28",
   "metadata": {
    "papermill": {
     "duration": 0.046776,
     "end_time": "2022-09-19T20:56:32.134529",
     "exception": false,
     "start_time": "2022-09-19T20:56:32.087753",
     "status": "completed"
    },
    "tags": []
   },
   "source": [
    "<b> Lets Analyze Weight of the Patient ?</b>"
   ]
  },
  {
   "cell_type": "code",
   "execution_count": 26,
   "id": "bae2feb0",
   "metadata": {
    "execution": {
     "iopub.execute_input": "2022-09-19T20:56:32.230647Z",
     "iopub.status.busy": "2022-09-19T20:56:32.230244Z",
     "iopub.status.idle": "2022-09-19T20:56:32.570494Z",
     "shell.execute_reply": "2022-09-19T20:56:32.569177Z"
    },
    "papermill": {
     "duration": 0.391612,
     "end_time": "2022-09-19T20:56:32.573395",
     "exception": false,
     "start_time": "2022-09-19T20:56:32.181783",
     "status": "completed"
    },
    "tags": []
   },
   "outputs": [
    {
     "data": {
      "image/png": "[encoded data removed]",
      "text/plain": [
       "<Figure size 432x288 with 1 Axes>"
      ]
     },
     "metadata": {
      "needs_background": "light"
     },
     "output_type": "display_data"
    }
   ],
   "source": [
    "ax = sns.countplot(x=\"weight\", hue=\"readmitted_2\", data=df)\n",
    "plt.xlabel('Weight', size = 12)\n",
    "plt.xticks(rotation=90, size = 12)\n",
    "plt.ylabel('Count', size = 12)\n",
    "plt.title('Weight vs Readmitted \\n', size = 12)\n",
    "plt.show()"
   ]
  },
  {
   "cell_type": "markdown",
   "id": "e6171c0f",
   "metadata": {
    "papermill": {
     "duration": 0.047167,
     "end_time": "2022-09-19T20:56:32.669290",
     "exception": false,
     "start_time": "2022-09-19T20:56:32.622123",
     "status": "completed"
    },
    "tags": []
   },
   "source": [
    "- From value Counts We can see that the from around 101000 records, 98569 records dont have Weight Value. \n",
    "- So, We will drop this column. \n",
    "- If we will try to fill this column it can disturb the distribution of the data."
   ]
  },
  {
   "cell_type": "code",
   "execution_count": 27,
   "id": "6231d0ee",
   "metadata": {
    "execution": {
     "iopub.execute_input": "2022-09-19T20:56:32.766735Z",
     "iopub.status.busy": "2022-09-19T20:56:32.766330Z",
     "iopub.status.idle": "2022-09-19T20:56:32.825098Z",
     "shell.execute_reply": "2022-09-19T20:56:32.824027Z"
    },
    "papermill": {
     "duration": 0.110388,
     "end_time": "2022-09-19T20:56:32.827833",
     "exception": false,
     "start_time": "2022-09-19T20:56:32.717445",
     "status": "completed"
    },
    "tags": []
   },
   "outputs": [],
   "source": [
    "# Lets drop this column. \n",
    "df.drop(columns = ['weight'], inplace = True)"
   ]
  },
  {
   "cell_type": "markdown",
   "id": "02efb993",
   "metadata": {
    "papermill": {
     "duration": 0.047118,
     "end_time": "2022-09-19T20:56:32.922593",
     "exception": false,
     "start_time": "2022-09-19T20:56:32.875475",
     "status": "completed"
    },
    "tags": []
   },
   "source": [
    "<b>Understanding of admission_type_id column.</b>"
   ]
  },
  {
   "cell_type": "markdown",
   "id": "21dfcfde",
   "metadata": {
    "papermill": {
     "duration": 0.047776,
     "end_time": "2022-09-19T20:56:33.017476",
     "exception": false,
     "start_time": "2022-09-19T20:56:32.969700",
     "status": "completed"
    },
    "tags": []
   },
   "source": [
    "As per the documentation, Integer identifier corresponding to 9 distinct values, for example:\n",
    "- emergency\n",
    "- urgent\n",
    "- elective\n",
    "- newborn\n",
    "- not available"
   ]
  },
  {
   "cell_type": "markdown",
   "id": "f9f46b2a",
   "metadata": {
    "papermill": {
     "duration": 0.047464,
     "end_time": "2022-09-19T20:56:33.113967",
     "exception": false,
     "start_time": "2022-09-19T20:56:33.066503",
     "status": "completed"
    },
    "tags": []
   },
   "source": [
    "This represents the Type of Admission of the Patient, Which means in which department patient if admitted to at the time of encounter. "
   ]
  },
  {
   "cell_type": "markdown",
   "id": "0ba07408",
   "metadata": {
    "papermill": {
     "duration": 0.048868,
     "end_time": "2022-09-19T20:56:33.210888",
     "exception": false,
     "start_time": "2022-09-19T20:56:33.162020",
     "status": "completed"
    },
    "tags": []
   },
   "source": [
    "As we dont have specific Id Defined even in the Documentation, we cannot map these value with Type for better undetstanding. \n",
    "We will only see if which ID have most Encounters."
   ]
  },
  {
   "cell_type": "code",
   "execution_count": 28,
   "id": "073bd975",
   "metadata": {
    "execution": {
     "iopub.execute_input": "2022-09-19T20:56:33.309888Z",
     "iopub.status.busy": "2022-09-19T20:56:33.309397Z",
     "iopub.status.idle": "2022-09-19T20:56:33.470673Z",
     "shell.execute_reply": "2022-09-19T20:56:33.469538Z"
    },
    "papermill": {
     "duration": 0.214301,
     "end_time": "2022-09-19T20:56:33.473497",
     "exception": false,
     "start_time": "2022-09-19T20:56:33.259196",
     "status": "completed"
    },
    "tags": []
   },
   "outputs": [
    {
     "data": {
      "image/png": "[encoded data removed]",
      "text/plain": [
       "<Figure size 432x288 with 1 Axes>"
      ]
     },
     "metadata": {
      "needs_background": "light"
     },
     "output_type": "display_data"
    }
   ],
   "source": [
    "ax = sns.countplot(x='admission_type_id',   data= df)\n",
    "plt.xlabel('Admission Type ID', size = 12)\n",
    "plt.xticks(rotation=90, size = 12)\n",
    "plt.ylabel('Count', size = 12)\n",
    "plt.title('Admission Type Id Distribution \\n', size = 12)\n",
    "plt.show()"
   ]
  },
  {
   "cell_type": "markdown",
   "id": "03d86d62",
   "metadata": {
    "papermill": {
     "duration": 0.050672,
     "end_time": "2022-09-19T20:56:33.572204",
     "exception": false,
     "start_time": "2022-09-19T20:56:33.521532",
     "status": "completed"
    },
    "tags": []
   },
   "source": [
    "We can see in the above graph, The Id 1 have most of the encounters. From the literature review i assumed that the value should mean as Inpatient Encounter. Because mostly the Patients Admitted to the Inpatiet Department Readmitted after some Procedure. "
   ]
  },
  {
   "cell_type": "markdown",
   "id": "ac908db0",
   "metadata": {
    "papermill": {
     "duration": 0.04842,
     "end_time": "2022-09-19T20:56:33.668926",
     "exception": false,
     "start_time": "2022-09-19T20:56:33.620506",
     "status": "completed"
    },
    "tags": []
   },
   "source": [
    "<b>What is the Discharge Disposition ?</b>"
   ]
  },
  {
   "cell_type": "markdown",
   "id": "ade53e1a",
   "metadata": {
    "papermill": {
     "duration": 0.04956,
     "end_time": "2022-09-19T20:56:33.766937",
     "exception": false,
     "start_time": "2022-09-19T20:56:33.717377",
     "status": "completed"
    },
    "tags": []
   },
   "source": [
    "AS per the Documentation, Integer identifier corresponding to 29 distinct values, for example:\n",
    "- discharged to home\n",
    "- expired\n",
    "- not available "
   ]
  },
  {
   "cell_type": "markdown",
   "id": "524f144b",
   "metadata": {
    "papermill": {
     "duration": 0.047641,
     "end_time": "2022-09-19T20:56:33.864344",
     "exception": false,
     "start_time": "2022-09-19T20:56:33.816703",
     "status": "completed"
    },
    "tags": []
   },
   "source": [
    "As per Literature, The Discharge Disposition means the facility to which patinet is discharged to. Patient can discharge to Home Health, etc. "
   ]
  },
  {
   "cell_type": "code",
   "execution_count": 29,
   "id": "85dc5b26",
   "metadata": {
    "execution": {
     "iopub.execute_input": "2022-09-19T20:56:33.964687Z",
     "iopub.status.busy": "2022-09-19T20:56:33.964290Z",
     "iopub.status.idle": "2022-09-19T20:56:33.972400Z",
     "shell.execute_reply": "2022-09-19T20:56:33.971229Z"
    },
    "papermill": {
     "duration": 0.059742,
     "end_time": "2022-09-19T20:56:33.974856",
     "exception": false,
     "start_time": "2022-09-19T20:56:33.915114",
     "status": "completed"
    },
    "tags": []
   },
   "outputs": [
    {
     "data": {
      "text/plain": [
       "26"
      ]
     },
     "execution_count": 29,
     "metadata": {},
     "output_type": "execute_result"
    }
   ],
   "source": [
    "len(df['discharge_disposition_id'].unique())"
   ]
  },
  {
   "cell_type": "markdown",
   "id": "f31b839c",
   "metadata": {
    "papermill": {
     "duration": 0.048723,
     "end_time": "2022-09-19T20:56:34.072303",
     "exception": false,
     "start_time": "2022-09-19T20:56:34.023580",
     "status": "completed"
    },
    "tags": []
   },
   "source": [
    "There are 26 Discharge Disposition's in the data and we also dont have mapping for it."
   ]
  },
  {
   "cell_type": "markdown",
   "id": "7b465dcc",
   "metadata": {
    "papermill": {
     "duration": 0.047608,
     "end_time": "2022-09-19T20:56:34.170389",
     "exception": false,
     "start_time": "2022-09-19T20:56:34.122781",
     "status": "completed"
    },
    "tags": []
   },
   "source": [
    "<b>What is Admission Source ID? </b>\n"
   ]
  },
  {
   "cell_type": "markdown",
   "id": "4fcb686b",
   "metadata": {
    "papermill": {
     "duration": 0.048241,
     "end_time": "2022-09-19T20:56:34.266765",
     "exception": false,
     "start_time": "2022-09-19T20:56:34.218524",
     "status": "completed"
    },
    "tags": []
   },
   "source": [
    "As per the Literature, Integer identifier corresponding to 21 distinct values, for example:\n",
    "- physician referral,\n",
    "- emergency room,  \n",
    "- transfer from a hospital"
   ]
  },
  {
   "cell_type": "markdown",
   "id": "58e870ef",
   "metadata": {
    "papermill": {
     "duration": 0.047624,
     "end_time": "2022-09-19T20:56:34.363194",
     "exception": false,
     "start_time": "2022-09-19T20:56:34.315570",
     "status": "completed"
    },
    "tags": []
   },
   "source": [
    "Admission Source means, from which source the patient came? The Patient can come from Physician Referral and other Sources."
   ]
  },
  {
   "cell_type": "code",
   "execution_count": 30,
   "id": "1bc12537",
   "metadata": {
    "execution": {
     "iopub.execute_input": "2022-09-19T20:56:34.462886Z",
     "iopub.status.busy": "2022-09-19T20:56:34.462428Z",
     "iopub.status.idle": "2022-09-19T20:56:34.470847Z",
     "shell.execute_reply": "2022-09-19T20:56:34.469549Z"
    },
    "papermill": {
     "duration": 0.062344,
     "end_time": "2022-09-19T20:56:34.473418",
     "exception": false,
     "start_time": "2022-09-19T20:56:34.411074",
     "status": "completed"
    },
    "tags": []
   },
   "outputs": [
    {
     "data": {
      "text/plain": [
       "array([ 1,  7,  2,  4,  5,  6, 20,  3, 17,  8,  9, 14, 10, 22, 11, 25, 13])"
      ]
     },
     "execution_count": 30,
     "metadata": {},
     "output_type": "execute_result"
    }
   ],
   "source": [
    "df['admission_source_id'].unique()  "
   ]
  },
  {
   "cell_type": "code",
   "execution_count": 31,
   "id": "da4dee54",
   "metadata": {
    "execution": {
     "iopub.execute_input": "2022-09-19T20:56:34.577540Z",
     "iopub.status.busy": "2022-09-19T20:56:34.576669Z",
     "iopub.status.idle": "2022-09-19T20:56:34.585422Z",
     "shell.execute_reply": "2022-09-19T20:56:34.583935Z"
    },
    "papermill": {
     "duration": 0.062268,
     "end_time": "2022-09-19T20:56:34.588020",
     "exception": false,
     "start_time": "2022-09-19T20:56:34.525752",
     "status": "completed"
    },
    "tags": []
   },
   "outputs": [
    {
     "name": "stdout",
     "output_type": "stream",
     "text": [
      "There are 17 unique Admission Sources from which patient can be admitted.\n"
     ]
    }
   ],
   "source": [
    "print('There are', len(df['admission_source_id'].unique()), 'unique Admission Sources from which patient can be admitted.')"
   ]
  },
  {
   "cell_type": "markdown",
   "id": "ec31cee1",
   "metadata": {
    "papermill": {
     "duration": 0.052225,
     "end_time": "2022-09-19T20:56:34.690261",
     "exception": false,
     "start_time": "2022-09-19T20:56:34.638036",
     "status": "completed"
    },
    "tags": []
   },
   "source": [
    "<b>What is meaning of time_in_hospital? </b>\n"
   ]
  },
  {
   "cell_type": "markdown",
   "id": "29c3d829",
   "metadata": {
    "papermill": {
     "duration": 0.050478,
     "end_time": "2022-09-19T20:56:34.792564",
     "exception": false,
     "start_time": "2022-09-19T20:56:34.742086",
     "status": "completed"
    },
    "tags": []
   },
   "source": [
    "As per Literaure, it is Integer number of days between admission and discharge."
   ]
  },
  {
   "cell_type": "code",
   "execution_count": 32,
   "id": "4797ec4a",
   "metadata": {
    "execution": {
     "iopub.execute_input": "2022-09-19T20:56:34.892983Z",
     "iopub.status.busy": "2022-09-19T20:56:34.891924Z",
     "iopub.status.idle": "2022-09-19T20:56:35.177835Z",
     "shell.execute_reply": "2022-09-19T20:56:35.176893Z"
    },
    "papermill": {
     "duration": 0.337359,
     "end_time": "2022-09-19T20:56:35.180268",
     "exception": false,
     "start_time": "2022-09-19T20:56:34.842909",
     "status": "completed"
    },
    "tags": []
   },
   "outputs": [
    {
     "data": {
      "image/png": "[encoded data removed]",
      "text/plain": [
       "<Figure size 1296x590.4 with 1 Axes>"
      ]
     },
     "metadata": {},
     "output_type": "display_data"
    }
   ],
   "source": [
    "sns.set(rc={'figure.figsize':(18,8.2)})\n",
    "ax = sns.countplot(x='time_in_hospital',   data= df)\n",
    "plt.xlabel('Time In Hospital', size = 12)\n",
    "plt.xticks(rotation=90, size = 12)\n",
    "plt.ylabel('Count', size = 12)\n",
    "plt.title('Time in Hospital Distribution \\n', size = 12)\n",
    "plt.show()"
   ]
  },
  {
   "cell_type": "code",
   "execution_count": 33,
   "id": "359aa7a2",
   "metadata": {
    "execution": {
     "iopub.execute_input": "2022-09-19T20:56:35.281833Z",
     "iopub.status.busy": "2022-09-19T20:56:35.281121Z",
     "iopub.status.idle": "2022-09-19T20:56:35.287717Z",
     "shell.execute_reply": "2022-09-19T20:56:35.286840Z"
    },
    "papermill": {
     "duration": 0.059777,
     "end_time": "2022-09-19T20:56:35.290040",
     "exception": false,
     "start_time": "2022-09-19T20:56:35.230263",
     "status": "completed"
    },
    "tags": []
   },
   "outputs": [
    {
     "data": {
      "text/plain": [
       "4.396018199149003"
      ]
     },
     "execution_count": 33,
     "metadata": {},
     "output_type": "execute_result"
    }
   ],
   "source": [
    "df['time_in_hospital'].mean()"
   ]
  },
  {
   "cell_type": "markdown",
   "id": "b3ac2edd",
   "metadata": {
    "papermill": {
     "duration": 0.04851,
     "end_time": "2022-09-19T20:56:35.387354",
     "exception": false,
     "start_time": "2022-09-19T20:56:35.338844",
     "status": "completed"
    },
    "tags": []
   },
   "source": [
    "From the Graph and Mean of the Time in Hospital, We found that the majority of the people stays in hospital 2-4 Days."
   ]
  },
  {
   "cell_type": "markdown",
   "id": "793266e3",
   "metadata": {
    "papermill": {
     "duration": 0.049536,
     "end_time": "2022-09-19T20:56:35.486719",
     "exception": false,
     "start_time": "2022-09-19T20:56:35.437183",
     "status": "completed"
    },
    "tags": []
   },
   "source": [
    "<b>What is the Relation of Stay in Hospital and Readmission? </b>"
   ]
  },
  {
   "cell_type": "code",
   "execution_count": 34,
   "id": "2c9adf5d",
   "metadata": {
    "execution": {
     "iopub.execute_input": "2022-09-19T20:56:35.589242Z",
     "iopub.status.busy": "2022-09-19T20:56:35.588502Z",
     "iopub.status.idle": "2022-09-19T20:56:36.004914Z",
     "shell.execute_reply": "2022-09-19T20:56:36.003390Z"
    },
    "papermill": {
     "duration": 0.470075,
     "end_time": "2022-09-19T20:56:36.007704",
     "exception": false,
     "start_time": "2022-09-19T20:56:35.537629",
     "status": "completed"
    },
    "tags": []
   },
   "outputs": [
    {
     "data": {
      "image/png": "[encoded data removed]",
      "text/plain": [
       "<Figure size 1296x590.4 with 1 Axes>"
      ]
     },
     "metadata": {},
     "output_type": "display_data"
    }
   ],
   "source": [
    "sns.set(rc={'figure.figsize':(18,8.2)})\n",
    "ax = sns.countplot(x='time_in_hospital',  hue= 'readmitted_2',  data= df)\n",
    "plt.xlabel('Time In Hospital', size = 12)\n",
    "plt.xticks(rotation=90, size = 12)\n",
    "plt.ylabel('Readmitted Count', size = 12)\n",
    "plt.title('Time in Hospital vs Readmission \\n', size = 12)\n",
    "plt.show()"
   ]
  },
  {
   "cell_type": "code",
   "execution_count": 35,
   "id": "b018583c",
   "metadata": {
    "execution": {
     "iopub.execute_input": "2022-09-19T20:56:36.109608Z",
     "iopub.status.busy": "2022-09-19T20:56:36.109222Z",
     "iopub.status.idle": "2022-09-19T20:56:37.267427Z",
     "shell.execute_reply": "2022-09-19T20:56:37.266108Z"
    },
    "papermill": {
     "duration": 1.213318,
     "end_time": "2022-09-19T20:56:37.270304",
     "exception": false,
     "start_time": "2022-09-19T20:56:36.056986",
     "status": "completed"
    },
    "tags": []
   },
   "outputs": [
    {
     "data": {
      "image/png": "[encoded data removed]",
      "text/plain": [
       "<Figure size 438.8x360 with 1 Axes>"
      ]
     },
     "metadata": {},
     "output_type": "display_data"
    }
   ],
   "source": [
    "sns.set(rc={'figure.figsize':(18, 8.2)})\n",
    "sns.displot(df, x=\"time_in_hospital\", hue = 'readmitted_2', kind=\"kde\")\n",
    "plt.title('Relationship between Time in Hospital and Readmission \\n\\n', size  = 14)\n",
    "plt.show()"
   ]
  },
  {
   "cell_type": "markdown",
   "id": "3a08f9b2",
   "metadata": {
    "papermill": {
     "duration": 0.050735,
     "end_time": "2022-09-19T20:56:37.372617",
     "exception": false,
     "start_time": "2022-09-19T20:56:37.321882",
     "status": "completed"
    },
    "tags": []
   },
   "source": [
    "Normal Time in Hospital for Not Readmitted and Readmitted is the same. This means that this parameter will not add value In our model."
   ]
  },
  {
   "cell_type": "markdown",
   "id": "eb8994b8",
   "metadata": {
    "papermill": {
     "duration": 0.050907,
     "end_time": "2022-09-19T20:56:37.475109",
     "exception": false,
     "start_time": "2022-09-19T20:56:37.424202",
     "status": "completed"
    },
    "tags": []
   },
   "source": [
    "<b> What is payer Code ?</b>"
   ]
  },
  {
   "cell_type": "markdown",
   "id": "d62ccb4c",
   "metadata": {
    "papermill": {
     "duration": 0.052288,
     "end_time": "2022-09-19T20:56:37.578591",
     "exception": false,
     "start_time": "2022-09-19T20:56:37.526303",
     "status": "completed"
    },
    "tags": []
   },
   "source": [
    "From the Literature, Integer identifier corresponding to 23 distinct values, for example:\n",
    "\n",
    "- Blue Cross\\BlueShield \n",
    "- Medicare,\n",
    "- self-pay\n",
    "\n",
    "This represent the payer of bill at the hospital. "
   ]
  },
  {
   "cell_type": "code",
   "execution_count": 36,
   "id": "07fcc731",
   "metadata": {
    "execution": {
     "iopub.execute_input": "2022-09-19T20:56:37.688736Z",
     "iopub.status.busy": "2022-09-19T20:56:37.687099Z",
     "iopub.status.idle": "2022-09-19T20:56:37.703596Z",
     "shell.execute_reply": "2022-09-19T20:56:37.702253Z"
    },
    "papermill": {
     "duration": 0.075853,
     "end_time": "2022-09-19T20:56:37.706760",
     "exception": false,
     "start_time": "2022-09-19T20:56:37.630907",
     "status": "completed"
    },
    "tags": []
   },
   "outputs": [
    {
     "data": {
      "text/plain": [
       "?     40255\n",
       "MC    32439\n",
       "HM     6274\n",
       "SP     5007\n",
       "BC     4655\n",
       "MD     3532\n",
       "CP     2531\n",
       "UN     2448\n",
       "CM     1937\n",
       "OG     1033\n",
       "PO      592\n",
       "DM      549\n",
       "CH      146\n",
       "WC      135\n",
       "OT       95\n",
       "MP       79\n",
       "SI       55\n",
       "FR        1\n",
       "Name: payer_code, dtype: int64"
      ]
     },
     "execution_count": 36,
     "metadata": {},
     "output_type": "execute_result"
    }
   ],
   "source": [
    "df['payer_code'].value_counts()"
   ]
  },
  {
   "cell_type": "markdown",
   "id": "caa15358",
   "metadata": {
    "papermill": {
     "duration": 0.05068,
     "end_time": "2022-09-19T20:56:37.809412",
     "exception": false,
     "start_time": "2022-09-19T20:56:37.758732",
     "status": "completed"
    },
    "tags": []
   },
   "source": [
    "We can see that there are <b>40256 </b> Empty values here, We will remove this column from the data. \n"
   ]
  },
  {
   "cell_type": "code",
   "execution_count": 37,
   "id": "9d8c04ee",
   "metadata": {
    "execution": {
     "iopub.execute_input": "2022-09-19T20:56:37.914411Z",
     "iopub.status.busy": "2022-09-19T20:56:37.913687Z",
     "iopub.status.idle": "2022-09-19T20:56:37.965281Z",
     "shell.execute_reply": "2022-09-19T20:56:37.964348Z"
    },
    "papermill": {
     "duration": 0.1068,
     "end_time": "2022-09-19T20:56:37.967814",
     "exception": false,
     "start_time": "2022-09-19T20:56:37.861014",
     "status": "completed"
    },
    "tags": []
   },
   "outputs": [],
   "source": [
    "df.drop(columns = ['payer_code'], inplace = True)"
   ]
  },
  {
   "cell_type": "markdown",
   "id": "36c90922",
   "metadata": {
    "papermill": {
     "duration": 0.055025,
     "end_time": "2022-09-19T20:56:41.526283",
     "exception": false,
     "start_time": "2022-09-19T20:56:41.471258",
     "status": "completed"
    },
    "tags": []
   },
   "source": [
    "<b>What is num_lab_procedures ? </b>\n",
    "\n",
    "Number of lab tests performed during the encounter\n"
   ]
  },
  {
   "cell_type": "code",
   "execution_count": 39,
   "id": "cceb91ea",
   "metadata": {
    "execution": {
     "iopub.execute_input": "2022-09-19T20:56:41.637107Z",
     "iopub.status.busy": "2022-09-19T20:56:41.636657Z",
     "iopub.status.idle": "2022-09-19T20:56:42.446282Z",
     "shell.execute_reply": "2022-09-19T20:56:42.445258Z"
    },
    "papermill": {
     "duration": 0.868131,
     "end_time": "2022-09-19T20:56:42.448699",
     "exception": false,
     "start_time": "2022-09-19T20:56:41.580568",
     "status": "completed"
    },
    "tags": []
   },
   "outputs": [
    {
     "data": {
      "image/png": "[encoded data removed]",
      "text/plain": [
       "<Figure size 360x360 with 1 Axes>"
      ]
     },
     "metadata": {},
     "output_type": "display_data"
    }
   ],
   "source": [
    "sns.displot(df, x=\"num_lab_procedures\", kind=\"kde\")\n",
    "plt.title('Distribution of Lab Procedures \\n\\n', size = 13)\n",
    "plt.show()"
   ]
  },
  {
   "cell_type": "markdown",
   "id": "5226bda3",
   "metadata": {
    "papermill": {
     "duration": 0.056012,
     "end_time": "2022-09-19T20:56:42.559612",
     "exception": false,
     "start_time": "2022-09-19T20:56:42.503600",
     "status": "completed"
    },
    "tags": []
   },
   "source": [
    "-  As we can see that from the distribution plot. That the majority of the Patients have around 30 to 50 Labs Procedures. Lets look at it with respect to class.   "
   ]
  },
  {
   "cell_type": "markdown",
   "id": "69af763d",
   "metadata": {
    "papermill": {
     "duration": 0.055466,
     "end_time": "2022-09-19T20:56:42.671446",
     "exception": false,
     "start_time": "2022-09-19T20:56:42.615980",
     "status": "completed"
    },
    "tags": []
   },
   "source": [
    "<b>Trend of Lab Procedures with Readmission ?</b>"
   ]
  },
  {
   "cell_type": "code",
   "execution_count": 40,
   "id": "2c6a8957",
   "metadata": {
    "execution": {
     "iopub.execute_input": "2022-09-19T20:56:42.858272Z",
     "iopub.status.busy": "2022-09-19T20:56:42.857536Z",
     "iopub.status.idle": "2022-09-19T20:56:43.984972Z",
     "shell.execute_reply": "2022-09-19T20:56:43.984095Z"
    },
    "papermill": {
     "duration": 1.18599,
     "end_time": "2022-09-19T20:56:43.987301",
     "exception": false,
     "start_time": "2022-09-19T20:56:42.801311",
     "status": "completed"
    },
    "tags": []
   },
   "outputs": [
    {
     "data": {
      "image/png": "[encoded data removed]",
      "text/plain": [
       "<Figure size 438.8x360 with 1 Axes>"
      ]
     },
     "metadata": {},
     "output_type": "display_data"
    }
   ],
   "source": [
    "sns.displot(df, x=\"num_lab_procedures\", hue= 'readmitted_2', kind=\"kde\")\n",
    "plt.title('Realtionship of Lab Procedures with Readmission \\n\\n', size = 13)\n",
    "plt.show()"
   ]
  },
  {
   "cell_type": "markdown",
   "id": "5c8cf294",
   "metadata": {
    "papermill": {
     "duration": 0.053245,
     "end_time": "2022-09-19T20:56:44.094658",
     "exception": false,
     "start_time": "2022-09-19T20:56:44.041413",
     "status": "completed"
    },
    "tags": []
   },
   "source": [
    "- The Distribution of Readmitted and Not Readmitted have the same trend.\n",
    "- The number of labs procedures will not play a vital role in creating contrastive behaviour between Readmitted and Not Readmitted."
   ]
  },
  {
   "cell_type": "markdown",
   "id": "15da1c1f",
   "metadata": {
    "papermill": {
     "duration": 0.053854,
     "end_time": "2022-09-19T20:56:44.203245",
     "exception": false,
     "start_time": "2022-09-19T20:56:44.149391",
     "status": "completed"
    },
    "tags": []
   },
   "source": [
    "<b>What is the relation of Number of Procedures and Readmission? </b>\n",
    "\n",
    "Number of procedures (other than lab tests) performed during the encounter"
   ]
  },
  {
   "cell_type": "code",
   "execution_count": 41,
   "id": "928f9926",
   "metadata": {
    "execution": {
     "iopub.execute_input": "2022-09-19T20:56:44.313853Z",
     "iopub.status.busy": "2022-09-19T20:56:44.313461Z",
     "iopub.status.idle": "2022-09-19T20:56:44.609882Z",
     "shell.execute_reply": "2022-09-19T20:56:44.608959Z"
    },
    "papermill": {
     "duration": 0.35464,
     "end_time": "2022-09-19T20:56:44.612215",
     "exception": false,
     "start_time": "2022-09-19T20:56:44.257575",
     "status": "completed"
    },
    "tags": []
   },
   "outputs": [
    {
     "data": {
      "image/png": "[encoded data removed]",
      "text/plain": [
       "<Figure size 1296x590.4 with 1 Axes>"
      ]
     },
     "metadata": {},
     "output_type": "display_data"
    }
   ],
   "source": [
    "sns.set(rc={'figure.figsize':(18,8.2)})\n",
    "ax = sns.countplot(x='num_procedures',  hue= 'readmitted_2',  data= df)\n",
    "plt.xlabel('Number of Procedures', size = 12)\n",
    "plt.xticks(rotation=90, size = 12)\n",
    "plt.ylabel('Readmitted Count', size = 12)\n",
    "plt.title('Number of Procedures vs Readmission \\n', size = 14)\n",
    "plt.show()"
   ]
  },
  {
   "cell_type": "markdown",
   "id": "7907b90b",
   "metadata": {
    "papermill": {
     "duration": 0.054175,
     "end_time": "2022-09-19T20:56:44.721227",
     "exception": false,
     "start_time": "2022-09-19T20:56:44.667052",
     "status": "completed"
    },
    "tags": []
   },
   "source": [
    "- Number of Procedures is also not giving some vital signs of readmission with increase in procedure. \n",
    "- Majority of patients have 0 procedures which are can be Readmitted and not Readmitted"
   ]
  },
  {
   "cell_type": "markdown",
   "id": "3d64b591",
   "metadata": {
    "papermill": {
     "duration": 0.064104,
     "end_time": "2022-09-19T20:56:57.242347",
     "exception": false,
     "start_time": "2022-09-19T20:56:57.178243",
     "status": "completed"
    },
    "tags": []
   },
   "source": [
    "As per the Documentation, they are the ICD - 9 Coded Diagnosis Codes, Each code represents some Disease.\n",
    "- The diag_1 is the Primary Diagnosis of the Patient, which means the patient is admitted to the hospital on this diagnosis.\n",
    "- The diag_2 is the Secondary Diagnosis, According to CMS Documentation  \"Secondary diagnoses are “conditions that coexist at the time of admission, that develop subsequently, or that affect the treatment received and/or length of stay. These diagnoses are vital to documentation and have the potential to impact a patient's severity of illness and risk of mortality\"\n",
    "- The diag_2 is the Additional Secondary Diagnosis."
   ]
  },
  {
   "cell_type": "code",
   "execution_count": 44,
   "id": "045b4c1f",
   "metadata": {
    "execution": {
     "iopub.execute_input": "2022-09-19T20:56:57.365956Z",
     "iopub.status.busy": "2022-09-19T20:56:57.365227Z",
     "iopub.status.idle": "2022-09-19T20:56:57.394558Z",
     "shell.execute_reply": "2022-09-19T20:56:57.393176Z"
    },
    "papermill": {
     "duration": 0.094549,
     "end_time": "2022-09-19T20:56:57.397327",
     "exception": false,
     "start_time": "2022-09-19T20:56:57.302778",
     "status": "completed"
    },
    "tags": []
   },
   "outputs": [
    {
     "data": {
      "text/plain": [
       "(717, 749, 790)"
      ]
     },
     "execution_count": 44,
     "metadata": {},
     "output_type": "execute_result"
    }
   ],
   "source": [
    "len(df['diag_1'].unique()), len(df['diag_2'].unique()), len(df['diag_3'].unique())"
   ]
  },
  {
   "cell_type": "markdown",
   "id": "e88b4ae3",
   "metadata": {
    "papermill": {
     "duration": 0.059886,
     "end_time": "2022-09-19T20:56:57.519321",
     "exception": false,
     "start_time": "2022-09-19T20:56:57.459435",
     "status": "completed"
    },
    "tags": []
   },
   "source": [
    "<b> As the unique values are too much. We can analyze the Top Diagnosis in Each Class!</b>"
   ]
  },
  {
   "cell_type": "code",
   "execution_count": 46,
   "id": "6066ac1d",
   "metadata": {
    "execution": {
     "iopub.execute_input": "2022-09-19T20:56:57.642236Z",
     "iopub.status.busy": "2022-09-19T20:56:57.641819Z",
     "iopub.status.idle": "2022-09-19T20:56:57.690720Z",
     "shell.execute_reply": "2022-09-19T20:56:57.689417Z"
    },
    "papermill": {
     "duration": 0.113308,
     "end_time": "2022-09-19T20:56:57.693660",
     "exception": false,
     "start_time": "2022-09-19T20:56:57.580352",
     "status": "completed"
    },
    "tags": []
   },
   "outputs": [
    {
     "data": {
      "text/plain": [
       "428    4057\n",
       "414    2720\n",
       "786    1709\n",
       "486    1683\n",
       "410    1438\n",
       "       ... \n",
       "704       1\n",
       "838       1\n",
       "795       1\n",
       "827       1\n",
       "700       1\n",
       "Name: diag_1, Length: 614, dtype: int64"
      ]
     },
     "execution_count": 46,
     "metadata": {},
     "output_type": "execute_result"
    }
   ],
   "source": [
    "df[df['readmitted_2'] == 'Yes']['diag_1'].value_counts()"
   ]
  },
  {
   "cell_type": "markdown",
   "id": "53122522",
   "metadata": {
    "papermill": {
     "duration": 0.061005,
     "end_time": "2022-09-19T20:56:57.816419",
     "exception": false,
     "start_time": "2022-09-19T20:56:57.755414",
     "status": "completed"
    },
    "tags": []
   },
   "source": [
    "<b>Top 20 Diagnosis in the Readmitted = YES </b>"
   ]
  },
  {
   "cell_type": "code",
   "execution_count": 47,
   "id": "9f1f895a",
   "metadata": {
    "execution": {
     "iopub.execute_input": "2022-09-19T20:56:57.939699Z",
     "iopub.status.busy": "2022-09-19T20:56:57.938950Z",
     "iopub.status.idle": "2022-09-19T20:56:58.365302Z",
     "shell.execute_reply": "2022-09-19T20:56:58.364017Z"
    },
    "papermill": {
     "duration": 0.491428,
     "end_time": "2022-09-19T20:56:58.367928",
     "exception": false,
     "start_time": "2022-09-19T20:56:57.876500",
     "status": "completed"
    },
    "tags": []
   },
   "outputs": [
    {
     "data": {
      "image/png": "[encoded data removed]",
      "text/plain": [
       "<Figure size 1296x590.4 with 1 Axes>"
      ]
     },
     "metadata": {},
     "output_type": "display_data"
    }
   ],
   "source": [
    "ax = sns.barplot(x=df[df['readmitted_2'] == 'Yes']['diag_1'].value_counts().index[:20],\n",
    "                 y=df[df['readmitted_2'] == 'Yes']['diag_1'].value_counts()[:20])\n",
    "plt.xlabel('Primary Diagnosis Codes', size = 12)\n",
    "plt.ylabel('Count', size = 12)\n",
    "plt.title('Top 20 Primary Diagnosis Codes in Readmission = YES \\n', size = 12)\n",
    "plt.show()"
   ]
  },
  {
   "cell_type": "markdown",
   "id": "01ce5381",
   "metadata": {
    "papermill": {
     "duration": 0.061203,
     "end_time": "2022-09-19T20:56:58.490617",
     "exception": false,
     "start_time": "2022-09-19T20:56:58.429414",
     "status": "completed"
    },
    "tags": []
   },
   "source": [
    "The Top Diagnosis Codes are 428, 414 and 786 in the Readmitted Patients.\n",
    "If we look at the ICD-9 Dictionary we will know that,\n",
    "- 428 = Congestive heart failure\n",
    "- 414 = Ischemic heart disease\n",
    "- 786 = Symptoms involving respiratory system and other chest symptoms\n",
    "- 486 = Pneumonia, organism unspecified "
   ]
  },
  {
   "cell_type": "markdown",
   "id": "9d80b03f",
   "metadata": {
    "papermill": {
     "duration": 0.061324,
     "end_time": "2022-09-19T20:56:58.613126",
     "exception": false,
     "start_time": "2022-09-19T20:56:58.551802",
     "status": "completed"
    },
    "tags": []
   },
   "source": [
    "So Patients with Heart Disease and Chest Disease are more likely to readmit to the hospital."
   ]
  },
  {
   "cell_type": "code",
   "execution_count": 48,
   "id": "c534432d",
   "metadata": {
    "execution": {
     "iopub.execute_input": "2022-09-19T20:56:58.737371Z",
     "iopub.status.busy": "2022-09-19T20:56:58.736617Z",
     "iopub.status.idle": "2022-09-19T20:56:59.163537Z",
     "shell.execute_reply": "2022-09-19T20:56:59.162235Z"
    },
    "papermill": {
     "duration": 0.492449,
     "end_time": "2022-09-19T20:56:59.166518",
     "exception": false,
     "start_time": "2022-09-19T20:56:58.674069",
     "status": "completed"
    },
    "tags": []
   },
   "outputs": [
    {
     "data": {
      "image/png": "[encoded data removed]",
      "text/plain": [
       "<Figure size 1296x590.4 with 1 Axes>"
      ]
     },
     "metadata": {},
     "output_type": "display_data"
    }
   ],
   "source": [
    "ax = sns.barplot(x=df[df['readmitted_2'] == 'No']['diag_1'].value_counts().index[:20],\n",
    "                 y=df[df['readmitted_2'] == 'No']['diag_1'].value_counts()[:20])\n",
    "plt.xlabel('Primary Diagnosis Codes', size = 12)\n",
    "plt.ylabel('Count', size = 12)\n",
    "plt.title('Top 20 Primary Diagnosis Codes in Readmission = No \\n', size = 12)\n",
    "plt.show()"
   ]
  },
  {
   "cell_type": "markdown",
   "id": "62de3c82",
   "metadata": {
    "papermill": {
     "duration": 0.060996,
     "end_time": "2022-09-19T20:56:59.291023",
     "exception": false,
     "start_time": "2022-09-19T20:56:59.230027",
     "status": "completed"
    },
    "tags": []
   },
   "source": [
    "We can see from graph, Chest and Heart Diseases are also common in Patients who didnt Admitted."
   ]
  },
  {
   "cell_type": "markdown",
   "id": "b996c360",
   "metadata": {
    "papermill": {
     "duration": 0.061777,
     "end_time": "2022-09-19T20:57:01.790248",
     "exception": false,
     "start_time": "2022-09-19T20:57:01.728471",
     "status": "completed"
    },
    "tags": []
   },
   "source": [
    "<b> What is the behaviour of max_glu_serum ?</b>"
   ]
  },
  {
   "cell_type": "markdown",
   "id": "7766d01a",
   "metadata": {
    "papermill": {
     "duration": 0.061521,
     "end_time": "2022-09-19T20:57:01.914433",
     "exception": false,
     "start_time": "2022-09-19T20:57:01.852912",
     "status": "completed"
    },
    "tags": []
   },
   "source": [
    "Indicates the range of the result or if the test was not taken.\n",
    "Values:\n",
    "- “>200,”\n",
    "- “>300,”\n",
    "- “normal,”\n",
    "- “none” if not measured"
   ]
  },
  {
   "cell_type": "code",
   "execution_count": 49,
   "id": "2ee4113a",
   "metadata": {
    "execution": {
     "iopub.execute_input": "2022-09-19T20:57:02.041003Z",
     "iopub.status.busy": "2022-09-19T20:57:02.040330Z",
     "iopub.status.idle": "2022-09-19T20:57:02.354331Z",
     "shell.execute_reply": "2022-09-19T20:57:02.349981Z"
    },
    "papermill": {
     "duration": 0.381476,
     "end_time": "2022-09-19T20:57:02.358044",
     "exception": false,
     "start_time": "2022-09-19T20:57:01.976568",
     "status": "completed"
    },
    "tags": []
   },
   "outputs": [
    {
     "data": {
      "image/png": "[encoded data removed]",
      "text/plain": [
       "<Figure size 1296x590.4 with 1 Axes>"
      ]
     },
     "metadata": {},
     "output_type": "display_data"
    }
   ],
   "source": [
    "sns.set(rc={'figure.figsize':(18,8.2)})\n",
    "ax = sns.countplot(x='max_glu_serum',   data= df)\n",
    "plt.xlabel('Max Glu Serum', size = 14)\n",
    "plt.xticks(rotation=90, size = 12)\n",
    "plt.ylabel('Count', size = 14)\n",
    "plt.title('Distribution of Max Glu Serum \\n', size = 14)\n",
    "plt.show()"
   ]
  },
  {
   "cell_type": "markdown",
   "id": "89cd1b0b",
   "metadata": {
    "papermill": {
     "duration": 0.083453,
     "end_time": "2022-09-19T20:57:02.507922",
     "exception": false,
     "start_time": "2022-09-19T20:57:02.424469",
     "status": "completed"
    },
    "tags": []
   },
   "source": [
    "- None means the max_glu_serum  test is not taken and almost 96,000 patients didnt took this test.\n",
    "- Lets analyze the trend of this for other 3 values with respect to Readmission"
   ]
  },
  {
   "cell_type": "code",
   "execution_count": 50,
   "id": "ada8f432",
   "metadata": {
    "execution": {
     "iopub.execute_input": "2022-09-19T20:57:02.714825Z",
     "iopub.status.busy": "2022-09-19T20:57:02.713640Z",
     "iopub.status.idle": "2022-09-19T20:57:03.034724Z",
     "shell.execute_reply": "2022-09-19T20:57:03.033366Z"
    },
    "papermill": {
     "duration": 0.462493,
     "end_time": "2022-09-19T20:57:03.037491",
     "exception": false,
     "start_time": "2022-09-19T20:57:02.574998",
     "status": "completed"
    },
    "tags": []
   },
   "outputs": [
    {
     "data": {
      "image/png": "[encoded data removed]",
      "text/plain": [
       "<Figure size 1296x590.4 with 1 Axes>"
      ]
     },
     "metadata": {},
     "output_type": "display_data"
    }
   ],
   "source": [
    "sns.set(rc={'figure.figsize':(18,8.2)})\n",
    "ax = sns.countplot(x='max_glu_serum',  hue= 'readmitted_2', data= df[df['max_glu_serum']!='None'])\n",
    "plt.xlabel('Max Glu Serum Value', size = 14)\n",
    "plt.xticks(rotation=90, size = 12)\n",
    "plt.ylabel('Count', size = 14)\n",
    "plt.title('Max Glu Serum vs Readmission \\n', size = 14)\n",
    "plt.show()"
   ]
  },
  {
   "cell_type": "markdown",
   "id": "774eff67",
   "metadata": {
    "papermill": {
     "duration": 0.063037,
     "end_time": "2022-09-19T20:57:03.167357",
     "exception": false,
     "start_time": "2022-09-19T20:57:03.104320",
     "status": "completed"
    },
    "tags": []
   },
   "source": [
    "- We can see that if the value of max_glu_serum greater than 300 there is high chance of Readmission as per the above graph."
   ]
  },
  {
   "cell_type": "markdown",
   "id": "ad88b686",
   "metadata": {
    "papermill": {
     "duration": 0.067044,
     "end_time": "2022-09-19T20:57:03.299684",
     "exception": false,
     "start_time": "2022-09-19T20:57:03.232640",
     "status": "completed"
    },
    "tags": []
   },
   "source": [
    "<b> What is A1Cresult ? </b>\n",
    "\n",
    "Indicates the range of the result or if the test was not taken. \n",
    "Values:\n",
    "\n",
    "- “>8” if the result was greater than 8%,\n",
    "- “>7” if the result was greater than 7% but less than 8%,\n",
    "- “normal” if the result was less than 7%,\n",
    "- and “none” if not measured"
   ]
  },
  {
   "cell_type": "code",
   "execution_count": 51,
   "id": "08f38d99",
   "metadata": {
    "execution": {
     "iopub.execute_input": "2022-09-19T20:57:03.430387Z",
     "iopub.status.busy": "2022-09-19T20:57:03.429258Z",
     "iopub.status.idle": "2022-09-19T20:57:03.752782Z",
     "shell.execute_reply": "2022-09-19T20:57:03.751854Z"
    },
    "papermill": {
     "duration": 0.391697,
     "end_time": "2022-09-19T20:57:03.755386",
     "exception": false,
     "start_time": "2022-09-19T20:57:03.363689",
     "status": "completed"
    },
    "tags": []
   },
   "outputs": [
    {
     "data": {
      "image/png": "[encoded data removed]",
      "text/plain": [
       "<Figure size 1296x590.4 with 1 Axes>"
      ]
     },
     "metadata": {},
     "output_type": "display_data"
    }
   ],
   "source": [
    "sns.set(rc={'figure.figsize':(18,8.2)})\n",
    "ax = sns.countplot(x='A1Cresult', data= df)\n",
    "plt.xlabel('A1Cresult Values', size = 14)\n",
    "plt.xticks(rotation=90, size = 12)\n",
    "plt.ylabel('Count', size = 14)\n",
    "plt.title('Distribution of A1Cresult \\n', size = 14)\n",
    "plt.show()"
   ]
  },
  {
   "cell_type": "markdown",
   "id": "3a463a74",
   "metadata": {
    "papermill": {
     "duration": 0.065457,
     "end_time": "2022-09-19T20:57:03.885680",
     "exception": false,
     "start_time": "2022-09-19T20:57:03.820223",
     "status": "completed"
    },
    "tags": []
   },
   "source": [
    "- Majority of the patients have None values, means this parameter if not measured. \n",
    "- Lets look at other 3 values and check the relationship"
   ]
  },
  {
   "cell_type": "code",
   "execution_count": 52,
   "id": "f8517c3d",
   "metadata": {
    "execution": {
     "iopub.execute_input": "2022-09-19T20:57:04.022949Z",
     "iopub.status.busy": "2022-09-19T20:57:04.021886Z",
     "iopub.status.idle": "2022-09-19T20:57:04.326401Z",
     "shell.execute_reply": "2022-09-19T20:57:04.325565Z"
    },
    "papermill": {
     "duration": 0.374615,
     "end_time": "2022-09-19T20:57:04.328879",
     "exception": false,
     "start_time": "2022-09-19T20:57:03.954264",
     "status": "completed"
    },
    "tags": []
   },
   "outputs": [
    {
     "data": {
      "image/png": "[encoded data removed]",
      "text/plain": [
       "<Figure size 1296x590.4 with 1 Axes>"
      ]
     },
     "metadata": {},
     "output_type": "display_data"
    }
   ],
   "source": [
    "sns.set(rc={'figure.figsize':(18,8.2)})\n",
    "ax = sns.countplot(x='A1Cresult', hue = 'readmitted_2', data=df[df['A1Cresult']!='None'])\n",
    "plt.xlabel('A1Cresult Values', size = 14)\n",
    "plt.xticks(rotation=90, size = 12)\n",
    "plt.ylabel('Count', size = 14)\n",
    "plt.title('A1Cresult vs Readmission \\n', size = 14)\n",
    "plt.show()"
   ]
  },
  {
   "cell_type": "markdown",
   "id": "533a946f",
   "metadata": {
    "papermill": {
     "duration": 0.064005,
     "end_time": "2022-09-19T20:57:04.458324",
     "exception": false,
     "start_time": "2022-09-19T20:57:04.394319",
     "status": "completed"
    },
    "tags": []
   },
   "source": [
    "There are more values values for Not Readmitted in each category. "
   ]
  },
  {
   "cell_type": "markdown",
   "id": "05886f2a",
   "metadata": {
    "papermill": {
     "duration": 0.065056,
     "end_time": "2022-09-19T20:57:04.588061",
     "exception": false,
     "start_time": "2022-09-19T20:57:04.523005",
     "status": "completed"
    },
    "tags": []
   },
   "source": [
    "<b>What is change?</b>\n",
    "\n",
    "Indicates if there was a change in diabetic medications (either dosage or generic\n",
    "name). Values:\n",
    "\n",
    "- “change”  \n",
    "- “no change”"
   ]
  },
  {
   "cell_type": "code",
   "execution_count": 53,
   "id": "da0c1577",
   "metadata": {
    "execution": {
     "iopub.execute_input": "2022-09-19T20:57:04.719726Z",
     "iopub.status.busy": "2022-09-19T20:57:04.718695Z",
     "iopub.status.idle": "2022-09-19T20:57:04.733003Z",
     "shell.execute_reply": "2022-09-19T20:57:04.732212Z"
    },
    "papermill": {
     "duration": 0.082623,
     "end_time": "2022-09-19T20:57:04.735228",
     "exception": false,
     "start_time": "2022-09-19T20:57:04.652605",
     "status": "completed"
    },
    "scrolled": true,
    "tags": []
   },
   "outputs": [
    {
     "data": {
      "text/plain": [
       "No    54754\n",
       "Ch    47009\n",
       "Name: change, dtype: int64"
      ]
     },
     "execution_count": 53,
     "metadata": {},
     "output_type": "execute_result"
    }
   ],
   "source": [
    "df['change'].value_counts()"
   ]
  },
  {
   "cell_type": "code",
   "execution_count": 69,
   "id": "cbe20cbb",
   "metadata": {
    "execution": {
     "iopub.execute_input": "2022-09-19T20:57:04.867301Z",
     "iopub.status.busy": "2022-09-19T20:57:04.866558Z",
     "iopub.status.idle": "2022-09-19T20:57:05.236059Z",
     "shell.execute_reply": "2022-09-19T20:57:05.235115Z"
    },
    "papermill": {
     "duration": 0.438043,
     "end_time": "2022-09-19T20:57:05.238355",
     "exception": false,
     "start_time": "2022-09-19T20:57:04.800312",
     "status": "completed"
    },
    "tags": []
   },
   "outputs": [
    {
     "data": {
      "image/png": "[encoded data removed]",
      "text/plain": [
       "<Figure size 1296x590.4 with 1 Axes>"
      ]
     },
     "metadata": {},
     "output_type": "display_data"
    }
   ],
   "source": [
    "ax = sns.countplot(x='change',  hue= 'readmitted_2',  data= df)\n",
    "plt.xlabel('Diabetes Med', size = 12)\n",
    "plt.xticks(rotation=90, size = 12)\n",
    "plt.ylabel('Readmitted Count', size = 12)\n",
    "plt.title('Diabetes Med vs Readmission \\n', size = 12)\n",
    "plt.show()"
   ]
  },
  {
   "cell_type": "markdown",
   "id": "98e75613",
   "metadata": {
    "papermill": {
     "duration": 0.065573,
     "end_time": "2022-09-19T20:57:05.369359",
     "exception": false,
     "start_time": "2022-09-19T20:57:05.303786",
     "status": "completed"
    },
    "tags": []
   },
   "source": [
    "<b>What is Diabetes Med ? </b>\n",
    "\n",
    "Indicates if there was any diabetic medication prescribed. Values:\n",
    "\n",
    "- “yes”\n",
    "- “no”"
   ]
  },
  {
   "cell_type": "code",
   "execution_count": 54,
   "id": "e0dff507",
   "metadata": {
    "execution": {
     "iopub.execute_input": "2022-09-19T20:57:05.505474Z",
     "iopub.status.busy": "2022-09-19T20:57:05.504740Z",
     "iopub.status.idle": "2022-09-19T20:57:05.880541Z",
     "shell.execute_reply": "2022-09-19T20:57:05.879581Z"
    },
    "papermill": {
     "duration": 0.446575,
     "end_time": "2022-09-19T20:57:05.882996",
     "exception": false,
     "start_time": "2022-09-19T20:57:05.436421",
     "status": "completed"
    },
    "scrolled": true,
    "tags": []
   },
   "outputs": [
    {
     "data": {
      "image/png": "[encoded data removed]",
      "text/plain": [
       "<Figure size 1296x590.4 with 1 Axes>"
      ]
     },
     "metadata": {},
     "output_type": "display_data"
    }
   ],
   "source": [
    "ax = sns.countplot(x='diabetesMed',  hue= 'readmitted_2',  data= df)\n",
    "plt.xlabel('Diabetes Med', size = 12)\n",
    "plt.xticks(rotation=90, size = 12)\n",
    "plt.ylabel('Readmitted Count', size = 12)\n",
    "plt.title('Diabetes Med vs Readmission \\n', size = 12)\n",
    "plt.show()"
   ]
  },
  {
   "cell_type": "markdown",
   "id": "341205e4",
   "metadata": {
    "papermill": {
     "duration": 0.068318,
     "end_time": "2022-09-19T20:57:06.017029",
     "exception": false,
     "start_time": "2022-09-19T20:57:05.948711",
     "status": "completed"
    },
    "tags": []
   },
   "source": [
    "- From above figure we can see that, the Patient with Diabetes have the high amount of readmissions."
   ]
  }
 ],
 "metadata": {
  "kernelspec": {
   "display_name": "Python 3",
   "language": "python",
   "name": "python3"
  },
  "language_info": {
   "codemirror_mode": {
    "name": "ipython",
    "version": 3
   },
   "file_extension": ".py",
   "mimetype": "text/x-python",
   "name": "python",
   "nbconvert_exporter": "python",
   "pygments_lexer": "ipython3",
   "version": "3.8.8"
  },
  "papermill": {
   "default_parameters": {},
   "duration": 1186.381323,
   "end_time": "2022-09-19T21:15:55.075980",
   "environment_variables": {},
   "exception": null,
   "input_path": "__notebook__.ipynb",
   "output_path": "__notebook__.ipynb",
   "parameters": {},
   "start_time": "2022-09-19T20:56:08.694657",
   "version": "2.3.4"
  }
 },
 "nbformat": 4,
 "nbformat_minor": 5
}
